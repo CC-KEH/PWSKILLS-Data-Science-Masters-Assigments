{
 "cells": [
  {
   "cell_type": "markdown",
   "metadata": {},
   "source": [
    "#### Q1. Theory and Concepts\n",
    "1. Explain the concept of batch normalization in the context of Artificial Neural Networks\n",
    "2. Describe the benefits of using batch normalization during training\n",
    "3. Discuss the working principle of batch normalization, including the normalization step and the learnable\n",
    "parameters."
   ]
  },
  {
   "cell_type": "markdown",
   "metadata": {},
   "source": [
    "#### Q2. Impementation:\n",
    "1. Choose a dataset of your choice (e.g., MNIST, CIAR-0) and preprocess itr\n",
    "2. Implement a simple feedforward neural network using any deep learning framework/library (e.g.,\n",
    "Tensorlow, PyTorch)r\n",
    "3. Train the neural network on the chosen dataset without using batch normalizationr\n",
    "4. Implement batch normalization layers in the neural network and train the model againr\n",
    "5. Compare the training and validation performance (e.g., accuracy, loss) between the models with and\n",
    "without batch normalizationr\n",
    "6. Discuss the impact of batch normalization on the training process and the performance of the neural\n",
    "network."
   ]
  },
  {
   "cell_type": "markdown",
   "metadata": {},
   "source": [
    "#### Q3. Experimentation and Analysis:\n",
    "1. Experiment with different batch sizes and observe the effect on the training dynamics and model\n",
    "performancer\n",
    "2. Discuss the advantages and potential limitations of batch normalization in improving the training of\n",
    "neural networks."
   ]
  }
 ],
 "metadata": {
  "language_info": {
   "name": "python"
  }
 },
 "nbformat": 4,
 "nbformat_minor": 2
}
