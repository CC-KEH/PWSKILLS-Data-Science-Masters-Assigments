{
 "cells": [
  {
   "cell_type": "markdown",
   "metadata": {},
   "source": [
    "#### Part 1: Theoretical Questions\n",
    "1. What are the different data structures used in Tensorflow?. Give some examples.\n",
    "2. How does the TensorFlow constant differ from a TensorFlow variable? Explain with an example.\n",
    "3. Describe the process of matrix addition, multiplication, and elementDwise operations in TensorFlow."
   ]
  },
  {
   "cell_type": "markdown",
   "metadata": {},
   "source": [
    "### Part 2: Practical Implementation\n",
    "#### Talk 1: Creating and Manipulating Matrices\n",
    "1. Create a normal matrix A with dimensions 2x2, using TensorFlow's random_normal function. Display the\n",
    "values of matrix A.\n",
    "2. Create a Gaussian matrix B with dimensions x, using TensorFlow's truncated_normal function. Display\n",
    "the values of matrix B.\n",
    "3. Create a matrix C with dimensions 2x2, where the values are drawn from a normal distribution with a\n",
    "mean of 2 and a standard deviation of 0.x, using TensorFlow's random.normal function. Display the values\n",
    "of matrix C.\n",
    "4. Perform matrix addition between matrix A and matrix B, and store the result in matrix D.\n",
    "5. Perform matrix multiplication between matrix C and matrix D, and store the result in matrix E.\n",
    "\n",
    "\n",
    "\n",
    "#### Talk 2: Performing Additional Matrix Operations\n",
    "1. Create a matrix F with dimensions 2x2, initialized with random values using TensorFlow's random_uniform\n",
    "function.\n",
    "2. Calculate the transpose of matrix F and store the result in matrix G.\n",
    "3. Calculate the elementDwise exponential of matrix F and store the result in matrix H.\n",
    "4. Create a matrix I by concatenating matrix F and matrix G horizontally.\n",
    "5. Create a matrix J by concatenating matrix F and matrix H vertically."
   ]
  }
 ],
 "metadata": {
  "language_info": {
   "name": "python"
  }
 },
 "nbformat": 4,
 "nbformat_minor": 2
}
