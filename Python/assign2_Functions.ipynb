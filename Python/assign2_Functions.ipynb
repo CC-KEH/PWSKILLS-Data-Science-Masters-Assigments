{
 "cells": [
  {
   "attachments": {},
   "cell_type": "markdown",
   "metadata": {},
   "source": [
    "Q1. Which keyword is used to create a function? Create a function to return a list of odd numbers in the\n",
    "range of 1 to 25."
   ]
  },
  {
   "cell_type": "code",
   "execution_count": 4,
   "metadata": {},
   "outputs": [
    {
     "name": "stdout",
     "output_type": "stream",
     "text": [
      "<function oddList at 0x000001AFE4A18180>\n"
     ]
    }
   ],
   "source": [
    "#def used for creating a function\n",
    "def oddList():\n",
    "    oddlist = []\n",
    "    for i in range(1,25):\n",
    "        if(i%2!=0):\n",
    "            oddlist.append(i)\n",
    "    return oddList\n",
    "print(oddList())"
   ]
  },
  {
   "attachments": {},
   "cell_type": "markdown",
   "metadata": {},
   "source": [
    "Q2. Why *args and **kwargs is used in some functions? Create a function each for *args and **kwargs to\n",
    "demonstrate their use."
   ]
  },
  {
   "cell_type": "code",
   "execution_count": 6,
   "metadata": {},
   "outputs": [
    {
     "name": "stdout",
     "output_type": "stream",
     "text": [
      "(1, 2, 3, 4, 4, 5, 6, 7, 8, 89, 9, 6, 324, 23, 423, 4234, {12: 23}, {1: 7}, {21: 27}, {14: 3}, {2: 3}, {1: 2}, {14: 13})\n",
      "(1, 2, 3, 4, 4, 5, 6, 7, 8, 89, 9, 6, 324, 23, 423, 4234, {12: 23}, {1: 7}, {21: 27}, {14: 3}, {2: 3}, {1: 2}, {14: 13})\n",
      "(1, 2, 3, 4, 4, 5, 6, 7, 8, 89, 9, 6, 324, 23, 423, 4234, {12: 23}, {1: 7}, {21: 27}, {14: 3}, {2: 3}, {1: 2}, {14: 13})\n",
      "(1, 2, 3, 4, 4, 5, 6, 7, 8, 89, 9, 6, 324, 23, 423, 4234, {12: 23}, {1: 7}, {21: 27}, {14: 3}, {2: 3}, {1: 2}, {14: 13})\n",
      "(1, 2, 3, 4, 4, 5, 6, 7, 8, 89, 9, 6, 324, 23, 423, 4234, {12: 23}, {1: 7}, {21: 27}, {14: 3}, {2: 3}, {1: 2}, {14: 13})\n",
      "(1, 2, 3, 4, 4, 5, 6, 7, 8, 89, 9, 6, 324, 23, 423, 4234, {12: 23}, {1: 7}, {21: 27}, {14: 3}, {2: 3}, {1: 2}, {14: 13})\n",
      "(1, 2, 3, 4, 4, 5, 6, 7, 8, 89, 9, 6, 324, 23, 423, 4234, {12: 23}, {1: 7}, {21: 27}, {14: 3}, {2: 3}, {1: 2}, {14: 13})\n",
      "(1, 2, 3, 4, 4, 5, 6, 7, 8, 89, 9, 6, 324, 23, 423, 4234, {12: 23}, {1: 7}, {21: 27}, {14: 3}, {2: 3}, {1: 2}, {14: 13})\n",
      "(1, 2, 3, 4, 4, 5, 6, 7, 8, 89, 9, 6, 324, 23, 423, 4234, {12: 23}, {1: 7}, {21: 27}, {14: 3}, {2: 3}, {1: 2}, {14: 13})\n",
      "(1, 2, 3, 4, 4, 5, 6, 7, 8, 89, 9, 6, 324, 23, 423, 4234, {12: 23}, {1: 7}, {21: 27}, {14: 3}, {2: 3}, {1: 2}, {14: 13})\n",
      "(1, 2, 3, 4, 4, 5, 6, 7, 8, 89, 9, 6, 324, 23, 423, 4234, {12: 23}, {1: 7}, {21: 27}, {14: 3}, {2: 3}, {1: 2}, {14: 13})\n",
      "(1, 2, 3, 4, 4, 5, 6, 7, 8, 89, 9, 6, 324, 23, 423, 4234, {12: 23}, {1: 7}, {21: 27}, {14: 3}, {2: 3}, {1: 2}, {14: 13})\n",
      "(1, 2, 3, 4, 4, 5, 6, 7, 8, 89, 9, 6, 324, 23, 423, 4234, {12: 23}, {1: 7}, {21: 27}, {14: 3}, {2: 3}, {1: 2}, {14: 13})\n",
      "(1, 2, 3, 4, 4, 5, 6, 7, 8, 89, 9, 6, 324, 23, 423, 4234, {12: 23}, {1: 7}, {21: 27}, {14: 3}, {2: 3}, {1: 2}, {14: 13})\n",
      "(1, 2, 3, 4, 4, 5, 6, 7, 8, 89, 9, 6, 324, 23, 423, 4234, {12: 23}, {1: 7}, {21: 27}, {14: 3}, {2: 3}, {1: 2}, {14: 13})\n",
      "(1, 2, 3, 4, 4, 5, 6, 7, 8, 89, 9, 6, 324, 23, 423, 4234, {12: 23}, {1: 7}, {21: 27}, {14: 3}, {2: 3}, {1: 2}, {14: 13})\n",
      "(1, 2, 3, 4, 4, 5, 6, 7, 8, 89, 9, 6, 324, 23, 423, 4234, {12: 23}, {1: 7}, {21: 27}, {14: 3}, {2: 3}, {1: 2}, {14: 13})\n",
      "(1, 2, 3, 4, 4, 5, 6, 7, 8, 89, 9, 6, 324, 23, 423, 4234, {12: 23}, {1: 7}, {21: 27}, {14: 3}, {2: 3}, {1: 2}, {14: 13})\n",
      "(1, 2, 3, 4, 4, 5, 6, 7, 8, 89, 9, 6, 324, 23, 423, 4234, {12: 23}, {1: 7}, {21: 27}, {14: 3}, {2: 3}, {1: 2}, {14: 13})\n",
      "(1, 2, 3, 4, 4, 5, 6, 7, 8, 89, 9, 6, 324, 23, 423, 4234, {12: 23}, {1: 7}, {21: 27}, {14: 3}, {2: 3}, {1: 2}, {14: 13})\n",
      "(1, 2, 3, 4, 4, 5, 6, 7, 8, 89, 9, 6, 324, 23, 423, 4234, {12: 23}, {1: 7}, {21: 27}, {14: 3}, {2: 3}, {1: 2}, {14: 13})\n",
      "(1, 2, 3, 4, 4, 5, 6, 7, 8, 89, 9, 6, 324, 23, 423, 4234, {12: 23}, {1: 7}, {21: 27}, {14: 3}, {2: 3}, {1: 2}, {14: 13})\n",
      "(1, 2, 3, 4, 4, 5, 6, 7, 8, 89, 9, 6, 324, 23, 423, 4234, {12: 23}, {1: 7}, {21: 27}, {14: 3}, {2: 3}, {1: 2}, {14: 13})\n"
     ]
    }
   ],
   "source": [
    "def function(*args,**kwargs):\n",
    "    for i in args:\n",
    "        print(args)\n",
    "    for i in kwargs:\n",
    "        print(kwargs)\n",
    "function(1,2,3,4,4,5,6,7,8,89,9,6,324,23,423,4234,{12:23},{1:7},{21:27},{14:3},{2:3},{1:2},{14:13})"
   ]
  },
  {
   "attachments": {},
   "cell_type": "markdown",
   "metadata": {},
   "source": [
    "Q3. What is an iterator in python? Name the method used to initialise the iterator object and the method\n",
    "used for iteration. Use these methods to print the first five elements of the given list [2, 4, 6, 8, 10, 12, 14, 16,\n",
    "18, 20]."
   ]
  },
  {
   "cell_type": "code",
   "execution_count": 7,
   "metadata": {},
   "outputs": [
    {
     "name": "stdout",
     "output_type": "stream",
     "text": [
      "2\n",
      "4\n",
      "6\n",
      "8\n",
      "10\n"
     ]
    }
   ],
   "source": [
    "my_list = [2, 4, 6, 8, 10, 12, 14, 16, 18, 20]\n",
    "my_iter = iter(my_list)\n",
    "\n",
    "for i in range(5):\n",
    "    print(next(my_iter))"
   ]
  },
  {
   "attachments": {},
   "cell_type": "markdown",
   "metadata": {},
   "source": [
    "Q4. What is a generator function in python? Why yield keyword is used? Give an example of a generator\n",
    "function."
   ]
  },
  {
   "attachments": {},
   "cell_type": "markdown",
   "metadata": {},
   "source": [
    "A generator function is a special type of function that returns an iterator object and generates a sequence of values using the yield keyword. When a generator function is called, it does not execute the function body immediately but returns a generator object that can be used to iterate over the values generated by the function. Each time the yield keyword is encountered in the function, the value is returned to the caller and the function's state is saved. When the generator is iterated again, the function resumes execution from where it left off, using the saved state."
   ]
  },
  {
   "attachments": {},
   "cell_type": "markdown",
   "metadata": {},
   "source": [
    "Q5. Create a generator function for prime numbers less than 1000. Use the next() method to print the\n",
    "first 20 prime numbers."
   ]
  },
  {
   "cell_type": "code",
   "execution_count": 10,
   "metadata": {},
   "outputs": [
    {
     "name": "stdout",
     "output_type": "stream",
     "text": [
      "2\n",
      "3\n",
      "5\n",
      "7\n",
      "11\n",
      "13\n",
      "17\n",
      "19\n",
      "23\n",
      "29\n",
      "31\n",
      "37\n",
      "41\n",
      "43\n",
      "47\n",
      "53\n",
      "59\n",
      "61\n",
      "67\n",
      "71\n"
     ]
    }
   ],
   "source": [
    "def generate_primes():\n",
    "    # start with the first prime number\n",
    "    num = 2\n",
    "    while num < 1000:\n",
    "        # check if the current number is prime\n",
    "        is_prime = True\n",
    "        for i in range(2, num):\n",
    "            if num % i == 0:\n",
    "                is_prime = False\n",
    "                break\n",
    "        # if the number is prime, yield it\n",
    "        if is_prime:\n",
    "            yield num\n",
    "        num += 1\n",
    "\n",
    "primes = generate_primes()\n",
    "for i in range(20):\n",
    "    print(next(primes))\n"
   ]
  }
 ],
 "metadata": {
  "kernelspec": {
   "display_name": "Python 3",
   "language": "python",
   "name": "python3"
  },
  "language_info": {
   "codemirror_mode": {
    "name": "ipython",
    "version": 3
   },
   "file_extension": ".py",
   "mimetype": "text/x-python",
   "name": "python",
   "nbconvert_exporter": "python",
   "pygments_lexer": "ipython3",
   "version": "3.11.1"
  },
  "orig_nbformat": 4,
  "vscode": {
   "interpreter": {
    "hash": "f414cda62ba454f399be0add4e85d5a31d9b1ee50c13e4389837957edafa769a"
   }
  }
 },
 "nbformat": 4,
 "nbformat_minor": 2
}
