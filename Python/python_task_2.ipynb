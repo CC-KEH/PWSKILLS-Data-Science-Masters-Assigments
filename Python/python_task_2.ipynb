{
 "cells": [
  {
   "cell_type": "markdown",
   "metadata": {},
   "source": [
    "Q1. You are writing code for a company. The requirement of the company is that you create a python\n",
    "function that will check whether the password entered by the user is correct or not. The function should\n",
    "take the password as input and return the string “Valid Password” if the entered password follows the\n",
    "below-given password guidelines else it should return “Invalid Password”.\n",
    "\n",
    "Note: \n",
    "1. The Password should contain at least two uppercase letters and at least two lowercase letters.\n",
    "2. The Password should contain at least a number and three special characters.\n",
    "3. The length of the password should be 10 characters long."
   ]
  },
  {
   "cell_type": "code",
   "execution_count": 31,
   "metadata": {},
   "outputs": [],
   "source": [
    "import string\n",
    "\n",
    "def validate_password(passwd):\n",
    "    lowchars = 0\n",
    "    upchars = 0\n",
    "    specs = 0\n",
    "    nums = 0\n",
    "    special_chars = string.punctuation\n",
    "\n",
    "    for ch in passwd:\n",
    "        if ch.islower():\n",
    "            lowchars += 1\n",
    "        elif ch.isupper():\n",
    "            upchars += 1\n",
    "        elif ch.isdigit():\n",
    "            nums += 1\n",
    "        elif ch in special_chars:\n",
    "            specs += 1\n",
    "\n",
    "    if lowchars >= 2 and upchars >= 2 and specs >= 3 and nums >= 1 and len(passwd) >9:\n",
    "        return \"Valid Password\"\n",
    "    else:\n",
    "        return \"Invalid Password\""
   ]
  },
  {
   "cell_type": "code",
   "execution_count": 32,
   "metadata": {},
   "outputs": [
    {
     "name": "stdout",
     "output_type": "stream",
     "text": [
      "Invalid Password\n",
      "Invalid Password\n",
      "Invalid Password\n",
      "Invalid Password\n",
      "Valid Password\n"
     ]
    }
   ],
   "source": [
    "print(validate_password(\"nbkalskmd\"))\n",
    "print(validate_password(\"nbkalskmd12\"))\n",
    "print(validate_password(\"nbkalskmd**(@)\"))\n",
    "print(validate_password(\"nbkalskmd*#*(@)ASED\"))\n",
    "print(validate_password(\"nbkalskmd(*&!$#)123ASDASD\"))"
   ]
  },
  {
   "cell_type": "markdown",
   "metadata": {},
   "source": [
    "Q2. Solve the below-given questions using at least one of the following:\n",
    "1. Lambda function\n",
    "2. Filter function\n",
    "3. Map function\n",
    "4. List Comprehension\n",
    "- Check if the string starts with a particular letter 'Y'\n",
    "- Check if the string is numericY\n",
    "- Sort a list of tuples having fruit names and their quantity. [(\"mango\",99),(\"orange\",80), (\"grapes\", 1000)-\n",
    "- Find the squares of numbers from 1 to 10Y\n",
    "- Find the cube root of numbers from 1 to 10Y\n",
    "- Check if a given number is evenY\n",
    "- Filter odd numbers from the given list.\n",
    "[1,2,3,4,5,6,7,8,9,10]\n",
    "- Sort a list of integers into positive and negative integers lists.\n",
    "[1,2,3,4,5,6,-1,-2,-3,-4,-5,0]"
   ]
  },
  {
   "cell_type": "code",
   "execution_count": 37,
   "metadata": {},
   "outputs": [
    {
     "name": "stdout",
     "output_type": "stream",
     "text": [
      "True\n",
      "False\n"
     ]
    },
    {
     "ename": "TypeError",
     "evalue": "'>=' not supported between instances of 'str' and 'int'",
     "output_type": "error",
     "traceback": [
      "\u001b[1;31m---------------------------------------------------------------------------\u001b[0m",
      "\u001b[1;31mTypeError\u001b[0m                                 Traceback (most recent call last)",
      "\u001b[1;32mc:\\Users\\arbas\\Documents\\Programs\\Python\\PWSKILLS\\PWSKILLS-Data-Science-Masters-Assigments\\Python\\python_task_2.ipynb Cell 5\u001b[0m line \u001b[0;36m7\n\u001b[0;32m      <a href='vscode-notebook-cell:/c%3A/Users/arbas/Documents/Programs/Python/PWSKILLS/PWSKILLS-Data-Science-Masters-Assigments/Python/python_task_2.ipynb#X13sZmlsZQ%3D%3D?line=3'>4</a>\u001b[0m \u001b[39mprint\u001b[39m(letterY(\u001b[39m\"\u001b[39m\u001b[39mEAS\u001b[39m\u001b[39m\"\u001b[39m))\n\u001b[0;32m      <a href='vscode-notebook-cell:/c%3A/Users/arbas/Documents/Programs/Python/PWSKILLS/PWSKILLS-Data-Science-Masters-Assigments/Python/python_task_2.ipynb#X13sZmlsZQ%3D%3D?line=5'>6</a>\u001b[0m numeric \u001b[39m=\u001b[39m \u001b[39mlambda\u001b[39;00m x : x[\u001b[39m0\u001b[39m]\u001b[39m>\u001b[39m\u001b[39m=\u001b[39m\u001b[39m0\u001b[39m \u001b[39mand\u001b[39;00m x[\u001b[39m0\u001b[39m]\u001b[39m<\u001b[39m\u001b[39m=\u001b[39m\u001b[39m9\u001b[39m\n\u001b[1;32m----> <a href='vscode-notebook-cell:/c%3A/Users/arbas/Documents/Programs/Python/PWSKILLS/PWSKILLS-Data-Science-Masters-Assigments/Python/python_task_2.ipynb#X13sZmlsZQ%3D%3D?line=6'>7</a>\u001b[0m \u001b[39mprint\u001b[39m(numeric(\u001b[39m\"\u001b[39;49m\u001b[39mYEAS\u001b[39;49m\u001b[39m\"\u001b[39;49m)) \n\u001b[0;32m      <a href='vscode-notebook-cell:/c%3A/Users/arbas/Documents/Programs/Python/PWSKILLS/PWSKILLS-Data-Science-Masters-Assigments/Python/python_task_2.ipynb#X13sZmlsZQ%3D%3D?line=7'>8</a>\u001b[0m \u001b[39mprint\u001b[39m(numeric(\u001b[39m\"\u001b[39m\u001b[39m4EAS\u001b[39m\u001b[39m\"\u001b[39m))\n",
      "\u001b[1;32mc:\\Users\\arbas\\Documents\\Programs\\Python\\PWSKILLS\\PWSKILLS-Data-Science-Masters-Assigments\\Python\\python_task_2.ipynb Cell 5\u001b[0m line \u001b[0;36m6\n\u001b[0;32m      <a href='vscode-notebook-cell:/c%3A/Users/arbas/Documents/Programs/Python/PWSKILLS/PWSKILLS-Data-Science-Masters-Assigments/Python/python_task_2.ipynb#X13sZmlsZQ%3D%3D?line=2'>3</a>\u001b[0m \u001b[39mprint\u001b[39m(letterY(\u001b[39m\"\u001b[39m\u001b[39mYEAS\u001b[39m\u001b[39m\"\u001b[39m)) \n\u001b[0;32m      <a href='vscode-notebook-cell:/c%3A/Users/arbas/Documents/Programs/Python/PWSKILLS/PWSKILLS-Data-Science-Masters-Assigments/Python/python_task_2.ipynb#X13sZmlsZQ%3D%3D?line=3'>4</a>\u001b[0m \u001b[39mprint\u001b[39m(letterY(\u001b[39m\"\u001b[39m\u001b[39mEAS\u001b[39m\u001b[39m\"\u001b[39m))\n\u001b[1;32m----> <a href='vscode-notebook-cell:/c%3A/Users/arbas/Documents/Programs/Python/PWSKILLS/PWSKILLS-Data-Science-Masters-Assigments/Python/python_task_2.ipynb#X13sZmlsZQ%3D%3D?line=5'>6</a>\u001b[0m numeric \u001b[39m=\u001b[39m \u001b[39mlambda\u001b[39;00m x : x[\u001b[39m0\u001b[39;49m]\u001b[39m>\u001b[39;49m\u001b[39m=\u001b[39;49m\u001b[39m0\u001b[39;49m \u001b[39mand\u001b[39;00m x[\u001b[39m0\u001b[39m]\u001b[39m<\u001b[39m\u001b[39m=\u001b[39m\u001b[39m9\u001b[39m\n\u001b[0;32m      <a href='vscode-notebook-cell:/c%3A/Users/arbas/Documents/Programs/Python/PWSKILLS/PWSKILLS-Data-Science-Masters-Assigments/Python/python_task_2.ipynb#X13sZmlsZQ%3D%3D?line=6'>7</a>\u001b[0m \u001b[39mprint\u001b[39m(numeric(\u001b[39m\"\u001b[39m\u001b[39mYEAS\u001b[39m\u001b[39m\"\u001b[39m)) \n\u001b[0;32m      <a href='vscode-notebook-cell:/c%3A/Users/arbas/Documents/Programs/Python/PWSKILLS/PWSKILLS-Data-Science-Masters-Assigments/Python/python_task_2.ipynb#X13sZmlsZQ%3D%3D?line=7'>8</a>\u001b[0m \u001b[39mprint\u001b[39m(numeric(\u001b[39m\"\u001b[39m\u001b[39m4EAS\u001b[39m\u001b[39m\"\u001b[39m))\n",
      "\u001b[1;31mTypeError\u001b[0m: '>=' not supported between instances of 'str' and 'int'"
     ]
    }
   ],
   "source": [
    "# LAMBDA FUNCTION\n",
    "letterY = lambda x : x.startswith('Y')\n",
    "print(letterY(\"YEAS\")) \n",
    "print(letterY(\"EAS\"))\n",
    "\n",
    "numeric = lambda x : x[0]>=0 and x[0]<=9\n",
    "print(numeric(\"YEAS\")) \n",
    "print(numeric(\"4EAS\"))\n"
   ]
  },
  {
   "cell_type": "code",
   "execution_count": null,
   "metadata": {},
   "outputs": [],
   "source": []
  }
 ],
 "metadata": {
  "kernelspec": {
   "display_name": "Python 3",
   "language": "python",
   "name": "python3"
  },
  "language_info": {
   "codemirror_mode": {
    "name": "ipython",
    "version": 3
   },
   "file_extension": ".py",
   "mimetype": "text/x-python",
   "name": "python",
   "nbconvert_exporter": "python",
   "pygments_lexer": "ipython3",
   "version": "3.11.4"
  }
 },
 "nbformat": 4,
 "nbformat_minor": 2
}
