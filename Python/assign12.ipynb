{
 "cells": [
  {
   "attachments": {},
   "cell_type": "markdown",
   "metadata": {},
   "source": [
    "1. What is an Exeption in python? Write the difference between Exceptions and syntax errors?"
   ]
  },
  {
   "attachments": {},
   "cell_type": "markdown",
   "metadata": {},
   "source": [
    "Ans: An exception in Python is an error that occurs during the execution of a program. It may be due to various reasons such as invalid input, division by zero, out of memory, or trying to access an undefined variable. When an exception occurs, the normal flow of the program is disrupted, and the program terminates.\n",
    "\n",
    "The key difference between exceptions and syntax errors is that exceptions occur during the execution of a program, while syntax errors occur before the program is executed. Additionally, exceptions can be handled and resolved programmatically, while syntax errors must be fixed manually by the programmer"
   ]
  },
  {
   "attachments": {},
   "cell_type": "markdown",
   "metadata": {},
   "source": [
    "2. What happens when an exception is not handled? Explain with an example"
   ]
  },
  {
   "attachments": {},
   "cell_type": "markdown",
   "metadata": {},
   "source": [
    "Ans: When an exception is not handled, the program terminates abruptly and generates a traceback, which is a detailed report of the error that occurred. The traceback provides information about the line of code where the error occurred, the type of error, and a description of the error.\n",
    "\n"
   ]
  },
  {
   "cell_type": "code",
   "execution_count": 1,
   "metadata": {},
   "outputs": [
    {
     "name": "stdout",
     "output_type": "stream",
     "text": [
      "2.0\n"
     ]
    },
    {
     "ename": "ZeroDivisionError",
     "evalue": "division by zero",
     "output_type": "error",
     "traceback": [
      "\u001b[1;31m---------------------------------------------------------------------------\u001b[0m",
      "\u001b[1;31mZeroDivisionError\u001b[0m                         Traceback (most recent call last)",
      "Cell \u001b[1;32mIn[1], line 6\u001b[0m\n\u001b[0;32m      3\u001b[0m     \u001b[39mreturn\u001b[39;00m result\n\u001b[0;32m      5\u001b[0m \u001b[39mprint\u001b[39m(divide(\u001b[39m10\u001b[39m, \u001b[39m5\u001b[39m))\n\u001b[1;32m----> 6\u001b[0m \u001b[39mprint\u001b[39m(divide(\u001b[39m10\u001b[39;49m, \u001b[39m0\u001b[39;49m))\n",
      "Cell \u001b[1;32mIn[1], line 2\u001b[0m, in \u001b[0;36mdivide\u001b[1;34m(x, y)\u001b[0m\n\u001b[0;32m      1\u001b[0m \u001b[39mdef\u001b[39;00m \u001b[39mdivide\u001b[39m(x, y):\n\u001b[1;32m----> 2\u001b[0m     result \u001b[39m=\u001b[39m x \u001b[39m/\u001b[39;49m y\n\u001b[0;32m      3\u001b[0m     \u001b[39mreturn\u001b[39;00m result\n",
      "\u001b[1;31mZeroDivisionError\u001b[0m: division by zero"
     ]
    }
   ],
   "source": [
    "def divide(x, y):\n",
    "    result = x / y\n",
    "    return result\n",
    "\n",
    "print(divide(10, 5))\n",
    "print(divide(10, 0))"
   ]
  },
  {
   "attachments": {},
   "cell_type": "markdown",
   "metadata": {},
   "source": [
    "3. Which Python statements are used to catch and handle exceptions? Explain with an example"
   ]
  },
  {
   "attachments": {},
   "cell_type": "markdown",
   "metadata": {},
   "source": [
    "Ans: In Python, exceptions can be caught and handled using the try and except statements. The try block contains the code that might raise an exception, and the except block contains the code that will handle the exception if it occurs.\n",
    "\n",
    "Here is an example of how to use the try and except statements to handle a ZeroDivisionError exception:\n",
    "\n"
   ]
  },
  {
   "cell_type": "code",
   "execution_count": 2,
   "metadata": {},
   "outputs": [
    {
     "name": "stdout",
     "output_type": "stream",
     "text": [
      "2.0\n",
      "Cannot divide by zero\n",
      "None\n"
     ]
    }
   ],
   "source": [
    "def divide(x, y):\n",
    "    try:\n",
    "        result = x / y\n",
    "    except ZeroDivisionError:\n",
    "        print(\"Cannot divide by zero\")\n",
    "    else:\n",
    "        return result\n",
    "\n",
    "print(divide(10, 5))\n",
    "print(divide(10, 0)) "
   ]
  },
  {
   "attachments": {},
   "cell_type": "markdown",
   "metadata": {},
   "source": [
    "Q4. Explain with an example:#\n",
    "\n",
    "- try and else\n",
    "- finally\n",
    "- raise"
   ]
  },
  {
   "cell_type": "code",
   "execution_count": 3,
   "metadata": {},
   "outputs": [
    {
     "name": "stdout",
     "output_type": "stream",
     "text": [
      "2.0\n",
      "5.0\n"
     ]
    }
   ],
   "source": [
    "def divide(x, y):\n",
    "    try:\n",
    "        result = x / y\n",
    "    except ZeroDivisionError:\n",
    "        print(\"Cannot divide by zero\")\n",
    "    else:\n",
    "        return result\n",
    "\n",
    "print(divide(10, 5)) \n",
    "print(divide(10, 2)) "
   ]
  },
  {
   "cell_type": "code",
   "execution_count": 4,
   "metadata": {},
   "outputs": [
    {
     "name": "stdout",
     "output_type": "stream",
     "text": [
      "Executing finally block\n",
      "2.0\n",
      "Cannot divide by zero\n",
      "Executing finally block\n",
      "None\n"
     ]
    }
   ],
   "source": [
    "def divide(x, y):\n",
    "    try:\n",
    "        result = x / y\n",
    "    except ZeroDivisionError:\n",
    "        print(\"Cannot divide by zero\")\n",
    "        result = None\n",
    "    finally:\n",
    "        print(\"Executing finally block\")\n",
    "    return result\n",
    "\n",
    "print(divide(10, 5)) \n",
    "print(divide(10, 0))"
   ]
  },
  {
   "cell_type": "code",
   "execution_count": 5,
   "metadata": {},
   "outputs": [
    {
     "name": "stdout",
     "output_type": "stream",
     "text": [
      "2.0\n",
      "Cannot divide by zero\n"
     ]
    }
   ],
   "source": [
    "def divide(x, y):\n",
    "    if y == 0:\n",
    "        raise ZeroDivisionError(\"Cannot divide by zero\")\n",
    "    return x / y\n",
    "\n",
    "try:\n",
    "    print(divide(10, 5)) \n",
    "    print(divide(10, 0))\n",
    "except ZeroDivisionError as e:\n",
    "    print(e)"
   ]
  },
  {
   "attachments": {},
   "cell_type": "markdown",
   "metadata": {},
   "source": [
    "5. What are Custom Exceptions in python? What do we need Custom Exceptions ? Explain in with an example"
   ]
  },
  {
   "attachments": {},
   "cell_type": "markdown",
   "metadata": {},
   "source": [
    "Ans: Custom exceptions are user-defined exceptions in Python. They allow you to define specific types of exceptions for your application, so you can handle errors and exceptions in a more organized and meaningful way.\n",
    "\n",
    "For example, you may encounter several different types of errors, such as invalid input, overflow, and divide-by-zero errors. You could handle these errors by raising built-in exceptions, such as ValueError or ZeroDivisionError, but it may not provide enough context or information about the error that has occurred."
   ]
  },
  {
   "cell_type": "code",
   "execution_count": 6,
   "metadata": {},
   "outputs": [
    {
     "name": "stdout",
     "output_type": "stream",
     "text": [
      "2.0\n",
      "Input values must be positive\n",
      "None\n",
      "Cannot divide by zero\n",
      "None\n"
     ]
    }
   ],
   "source": [
    "class InvalidInputError(Exception):\n",
    "    pass\n",
    "\n",
    "class OverflowError(Exception):\n",
    "    pass\n",
    "\n",
    "class DivideByZeroError(Exception):\n",
    "    pass\n",
    "\n",
    "def divide(x, y):\n",
    "    if y == 0:\n",
    "        raise DivideByZeroError(\"Cannot divide by zero\")\n",
    "    return x / y\n",
    "\n",
    "def calculate(x, y):\n",
    "    try:\n",
    "        if x < 0 or y < 0:\n",
    "            raise InvalidInputError(\"Input values must be positive\")\n",
    "        result = divide(x, y)\n",
    "    except DivideByZeroError as e:\n",
    "        print(e)\n",
    "    except InvalidInputError as e:\n",
    "        print(e)\n",
    "    else:\n",
    "        return result\n",
    "\n",
    "print(calculate(10, 5)) \n",
    "print(calculate(-10, 5))\n",
    "print(calculate(10, 0))"
   ]
  },
  {
   "attachments": {},
   "cell_type": "markdown",
   "metadata": {},
   "source": [
    "6. Create a custom exception class. Use this class to handle an exception."
   ]
  },
  {
   "cell_type": "code",
   "execution_count": 8,
   "metadata": {},
   "outputs": [
    {
     "name": "stdout",
     "output_type": "stream",
     "text": [
      "2.0\n",
      "Cannot divide by zero\n"
     ]
    }
   ],
   "source": [
    "class CustomException(Exception):\n",
    "    pass\n",
    "\n",
    "def divide(x, y):\n",
    "    if y == 0:\n",
    "        raise CustomException(\"Cannot divide by zero\")\n",
    "    return x / y\n",
    "\n",
    "try:\n",
    "    print(divide(10, 5)) \n",
    "    print(divide(10, 0))\n",
    "except CustomException as e:\n",
    "    print(e)"
   ]
  }
 ],
 "metadata": {
  "kernelspec": {
   "display_name": "Python 3",
   "language": "python",
   "name": "python3"
  },
  "language_info": {
   "codemirror_mode": {
    "name": "ipython",
    "version": 3
   },
   "file_extension": ".py",
   "mimetype": "text/x-python",
   "name": "python",
   "nbconvert_exporter": "python",
   "pygments_lexer": "ipython3",
   "version": "3.11.2"
  },
  "orig_nbformat": 4
 },
 "nbformat": 4,
 "nbformat_minor": 2
}
