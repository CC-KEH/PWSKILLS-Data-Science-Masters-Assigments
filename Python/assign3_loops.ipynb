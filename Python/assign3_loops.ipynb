{
 "cells": [
  {
   "attachments": {},
   "cell_type": "markdown",
   "metadata": {},
   "source": [
    "Q1. Explain with an example each when to use a for loop and a while loop."
   ]
  },
  {
   "cell_type": "code",
   "execution_count": 1,
   "metadata": {},
   "outputs": [
    {
     "name": "stdout",
     "output_type": "stream",
     "text": [
      "1\n",
      "2\n",
      "3\n",
      "4\n",
      "5\n",
      "6\n",
      "7\n",
      "8\n",
      "9\n"
     ]
    }
   ],
   "source": [
    "for i in range(1,10):\n",
    "    print(i)"
   ]
  },
  {
   "cell_type": "code",
   "execution_count": 2,
   "metadata": {},
   "outputs": [
    {
     "name": "stdout",
     "output_type": "stream",
     "text": [
      "0\n",
      "1\n",
      "2\n",
      "3\n",
      "4\n",
      "5\n",
      "6\n",
      "7\n",
      "8\n",
      "9\n"
     ]
    }
   ],
   "source": [
    "i =0\n",
    "while(i<10):\n",
    "    print(i)\n",
    "    i =i+1"
   ]
  },
  {
   "attachments": {},
   "cell_type": "markdown",
   "metadata": {},
   "source": [
    "Q2. Write a python program to print the sum and product of the first 10 natural numbers using for and while loop."
   ]
  },
  {
   "cell_type": "code",
   "execution_count": 3,
   "metadata": {},
   "outputs": [
    {
     "name": "stdout",
     "output_type": "stream",
     "text": [
      "sum of 10 nos are: 55\n",
      "product of 10 nos are: 3628800\n"
     ]
    }
   ],
   "source": [
    "#for loop\n",
    "sum=0\n",
    "product =1\n",
    "for i in range(1,11):\n",
    "    sum = sum+i\n",
    "    product = product*i\n",
    "\n",
    "print(\"sum of 10 nos are:\",sum)\n",
    "print(\"product of 10 nos are:\",product)"
   ]
  },
  {
   "cell_type": "code",
   "execution_count": 4,
   "metadata": {},
   "outputs": [
    {
     "name": "stdout",
     "output_type": "stream",
     "text": [
      "sum of 10 nos are: 55\n",
      "product of 10 nos are: 3628800\n"
     ]
    }
   ],
   "source": [
    "#while loop\n",
    "sum=0\n",
    "products =1\n",
    "i=1\n",
    "while (i<11):\n",
    "    sum = sum+i\n",
    "    products = products*i\n",
    "    i +=1\n",
    "print(\"sum of 10 nos are:\",sum)\n",
    "print(\"product of 10 nos are:\",products)"
   ]
  },
  {
   "attachments": {},
   "cell_type": "markdown",
   "metadata": {},
   "source": [
    "Q3. Create a python program to compute the electricity bill for a household. The per-unit charges in rupees are as follows: For the first 100 units, the user will be charged Rs. 4.5 per unit, for the next 100 units, the user will be charged Rs. 6 per unit, and for the next 100 units, the user will be charged Rs. 10 per unit, After 300 units and above the user will be charged Rs. 20 per unit. Your program must pass this test case: when the unit of electricity consumed by the user in a month is 310, the total electricity bill should be 2250."
   ]
  },
  {
   "cell_type": "code",
   "execution_count": 11,
   "metadata": {},
   "outputs": [
    {
     "name": "stdout",
     "output_type": "stream",
     "text": [
      "Total Electricity Bill Rs.2250\n"
     ]
    }
   ],
   "source": [
    "units = int(input('Enter Units: '))\n",
    "bill = 0\n",
    "if units <= 100:\n",
    "    bill += 4.5*units\n",
    "    units -= 100\n",
    "elif units > 100 and units <= 200:\n",
    "    bill += 450\n",
    "    units -= 100\n",
    "    bill += 6*units\n",
    "elif units > 200 and units <= 300:\n",
    "    bill += 450+600\n",
    "    units -= 200\n",
    "    bill += 10*units\n",
    "elif units > 300:\n",
    "    bill += 450+600+1000\n",
    "    units -= 300\n",
    "    bill += 20*units\n",
    "print(f'Total Electricity Bill Rs.{bill}')"
   ]
  },
  {
   "attachments": {},
   "cell_type": "markdown",
   "metadata": {},
   "source": [
    "Q4. Create a list of numbers from 1 to 100. Use for loop and while loop to calculate the cube of each number and if the cube of that number is divisible by 4 or 5 then append that number in a list and print that list."
   ]
  },
  {
   "cell_type": "code",
   "execution_count": 6,
   "metadata": {},
   "outputs": [
    {
     "name": "stdout",
     "output_type": "stream",
     "text": [
      "[2, 4, 5, 6, 8, 10, 12, 14, 15, 16, 18, 20, 22, 24, 25, 26, 28, 30, 32, 34, 35, 36, 38, 40, 42, 44, 45, 46, 48, 50, 52, 54, 55, 56, 58, 60, 62, 64, 65, 66, 68, 70, 72, 74, 75, 76, 78, 80, 82, 84, 85, 86, 88, 90, 92, 94, 95, 96, 98, 100]\n"
     ]
    }
   ],
   "source": [
    "#for loop\n",
    "l = list(range(1,101))\n",
    "\n",
    "newlist =[]\n",
    "\n",
    "for i in l:\n",
    "    c= i**3\n",
    "    if c %4 ==0 or c%5==0:\n",
    "        newlist.append(i)\n",
    "print(newlist)"
   ]
  },
  {
   "cell_type": "code",
   "execution_count": null,
   "metadata": {},
   "outputs": [],
   "source": [
    "#while loop\n",
    "newlist2 =[]\n",
    "i =1\n",
    "while i <= len(l):\n",
    "    c = i**3\n",
    "    if c%4 ==0 or c%5 ==0:\n",
    "        newlist2.append(i)\n",
    "    i+=1\n",
    "print(newlist2)"
   ]
  },
  {
   "attachments": {},
   "cell_type": "markdown",
   "metadata": {},
   "source": [
    "Q5. Write a program to filter count vowels in the below-given string. string = \"I want to become a data scientist\""
   ]
  },
  {
   "cell_type": "code",
   "execution_count": 9,
   "metadata": {},
   "outputs": [
    {
     "name": "stdout",
     "output_type": "stream",
     "text": [
      "12\n"
     ]
    }
   ],
   "source": [
    "sts = str(input(\"Enter the input\"))\n",
    "vowels = 'aeiouAEIOU'\n",
    "count=0\n",
    "for char in sts:\n",
    "    if char in vowels:\n",
    "       count+=1\n",
    "print(count)\n",
    "    "
   ]
  }
 ],
 "metadata": {
  "kernelspec": {
   "display_name": "Python 3",
   "language": "python",
   "name": "python3"
  },
  "language_info": {
   "codemirror_mode": {
    "name": "ipython",
    "version": 3
   },
   "file_extension": ".py",
   "mimetype": "text/x-python",
   "name": "python",
   "nbconvert_exporter": "python",
   "pygments_lexer": "ipython3",
   "version": "3.11.2"
  },
  "orig_nbformat": 4
 },
 "nbformat": 4,
 "nbformat_minor": 2
}
