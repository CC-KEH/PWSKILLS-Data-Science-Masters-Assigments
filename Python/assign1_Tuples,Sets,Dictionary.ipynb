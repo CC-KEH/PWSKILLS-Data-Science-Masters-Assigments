{
 "cells": [
  {
   "attachments": {},
   "cell_type": "markdown",
   "metadata": {},
   "source": [
    "Q1. What are the characteristics of the tuples? Is tuple immutable?\n",
    "\n",
    "Ans: Tuples are list like Data Structure but with strict rules.\n",
    "        characteristics of tuples are as follows:\n",
    "        1. Immutable: Once a tuple is created, its elements cannot be changed. This makes tuples ideal for representing values that should not change, such as dates, times, or names.\n",
    "        2. Ordered: The elements in a tuple have a defined order, and that order is maintained when the tuple is accessed.\n",
    "        3. Indexable: Tuples can be indexed just like lists, allowing you to access individual elements.\n",
    "        4. Named Tuples: Named tuples allow you to define a tuple with named elements, making it easier to access the elements of the tuple.\n",
    "        5. Efficient: Tuples are more efficient than lists in terms of memory usage and access time, since they have a fixed size.\n",
    "        6. They can be used as key in dictionaries whereas list cannot."
   ]
  },
  {
   "attachments": {},
   "cell_type": "markdown",
   "metadata": {},
   "source": [
    "Q2. What are the two tuple methods in python? Give an example of each method. Give a reason why\n",
    "tuples have only two in-built methods as compared to Lists.\n",
    "\n",
    "Ans: 1. count() (tuple.count(X)) this method gives the count of no of times an elements occurs in tuple\n",
    "     2. index() (tuple.index(X)) this method gives the index of the element present inside tuple\n",
    "\n",
    "Tuples have 2 builtin methods in python whereas lists have too many because tuples are made for simplework, unlike list they are not intended to be flexible and mutable. \n"
   ]
  },
  {
   "attachments": {},
   "cell_type": "markdown",
   "metadata": {},
   "source": [
    "Q3. Which collection datatypes in python do not allow duplicate items? Write a code using a set to remove\n",
    "duplicates from the given list.\n",
    "List = [1, 1, 1, 2, 1, 3, 1, 4, 2, 1, 2, 2, 2, 3, 2, 4, 3, 1, 3, 2, 3, 3, 3, 4, 4, 1, 4, 2, 4, 3, 4, 4]\n",
    "\n",
    "Ans: Set data structure does not allow duplicate elements inside it.\n",
    "     Code:\n",
    "          set1 = set(List)\n",
    "          newList = list(set1)\n",
    "          print(newList)\n"
   ]
  },
  {
   "attachments": {},
   "cell_type": "markdown",
   "metadata": {},
   "source": [
    "\n",
    "Q4. Explain the difference between the union() and update() methods for a set. Give an example of\n",
    "each method.\n",
    "\n",
    "Ans: 1. union()  - returns a set containing unique elements of given 2 sets \n",
    "     2. update() - updates the set1 by inserting the unique values that were present in set2 into set1.\n",
    "        For eg: set1 = {1,2,3}\n",
    "                set2 = {4,5} \n",
    "            set1.union(set2) => new_set => {1,2,3,4,5} but wont change set1 \n",
    "            set1.update(set2) => set1 => {1,2,3,4,5}\n"
   ]
  },
  {
   "attachments": {},
   "cell_type": "markdown",
   "metadata": {},
   "source": [
    "Q5. What is a dictionary? Give an example. Also, state whether a dictionary is ordered or unordered.\n",
    "\n",
    "Ans: A dictionary is a Data Structure that stores data in a form of Key-value pair, The items inside\n",
    "    dictionaries are not stored in order, their order change over time, after inserting and deletion like operations.\n"
   ]
  },
  {
   "attachments": {},
   "cell_type": "markdown",
   "metadata": {},
   "source": [
    "Q6. Can we create a nested dictionary? If so, please give an example by creating a simple one-level\n",
    "nested dictionary.\n",
    "\n",
    "Ans: Yes we can create nested Dictionary by the following code:\n",
    "     emp =   {'id': 101, 'other' : {'name' : Arbash,'Age' : 21}}\n"
   ]
  },
  {
   "cell_type": "code",
   "execution_count": 1,
   "metadata": {},
   "outputs": [
    {
     "name": "stdout",
     "output_type": "stream",
     "text": [
      "{'language': 'Python', 'course': 'Data Science Masters', 'named_topics': ['Python', 'Machine Learning', 'Deep Learning']}\n"
     ]
    }
   ],
   "source": [
    "# Q7. Using setdefault() method, create key named topics in the given dictionary and also add the value of\n",
    "# the key as this list ['Python', 'Machine Learning’, 'Deep Learning']\n",
    "\n",
    "dict1 = {'language' : 'Python', 'course': 'Data Science Masters'}\n",
    "named_topics = ['Python', 'Machine Learning', 'Deep Learning']\n",
    "dict1.setdefault('named_topics',named_topics)\n",
    "print(dict1)"
   ]
  },
  {
   "cell_type": "code",
   "execution_count": 2,
   "metadata": {},
   "outputs": [
    {
     "name": "stdout",
     "output_type": "stream",
     "text": [
      "dict_keys(['Sport', 'Teams'])\n",
      "dict_values(['Cricket', ['India', 'Australia', 'England', 'South Africa', 'Sri Lanka', 'New Zealand']])\n",
      "dict_items([('Sport', 'Cricket'), ('Teams', ['India', 'Australia', 'England', 'South Africa', 'Sri Lanka', 'New Zealand'])])\n"
     ]
    }
   ],
   "source": [
    "# Q8. What are the three view objects in dictionaries? Use the three in-built methods in python to display\n",
    "# these three view objects for the given dictionary.\n",
    "# dict1 = {'Sport': 'Cricket' , 'Teams': ['India', 'Australia', 'England', 'South Africa', 'Sri Lanka', 'New Zealand']}\n",
    "\n",
    "dict2 = {'Sport': 'Cricket' , 'Teams': ['India', 'Australia', 'England', 'South Africa', 'Sri Lanka', 'New Zealand']}\n",
    "# Use the keys() method\n",
    "keys = dict2.keys()\n",
    "print(keys)\n",
    "# Use the values() method\n",
    "values = dict2.values()\n",
    "print(values)\n",
    "# Use the items() method\n",
    "items = dict2.items()\n",
    "print(items)"
   ]
  }
 ],
 "metadata": {
  "kernelspec": {
   "display_name": "Python 3",
   "language": "python",
   "name": "python3"
  },
  "language_info": {
   "codemirror_mode": {
    "name": "ipython",
    "version": 3
   },
   "file_extension": ".py",
   "mimetype": "text/x-python",
   "name": "python",
   "nbconvert_exporter": "python",
   "pygments_lexer": "ipython3",
   "version": "3.11.1"
  },
  "orig_nbformat": 4,
  "vscode": {
   "interpreter": {
    "hash": "f414cda62ba454f399be0add4e85d5a31d9b1ee50c13e4389837957edafa769a"
   }
  }
 },
 "nbformat": 4,
 "nbformat_minor": 2
}
