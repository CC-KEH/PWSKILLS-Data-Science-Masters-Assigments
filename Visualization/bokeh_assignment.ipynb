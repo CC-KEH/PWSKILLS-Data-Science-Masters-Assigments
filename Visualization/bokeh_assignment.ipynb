{
 "cells": [
  {
   "attachments": {},
   "cell_type": "markdown",
   "metadata": {},
   "source": [
    "1. How can you create a Bokeh plot using Python code?"
   ]
  },
  {
   "cell_type": "code",
   "execution_count": 2,
   "metadata": {},
   "outputs": [],
   "source": [
    "from bokeh.plotting import figure,output_file,show\n",
    "import numpy as np\n",
    "\n",
    "x = np.random.randn(100);\n",
    "y = np.random.randn(100);\n",
    "\n",
    "plot = figure(title='Figure',x_axis_label='X',y_axis_label='Y')\n",
    "plot.circle(x, y, size=10, color='blue', alpha=0.5)\n",
    "output_file('scatter_plot.html')\n",
    "show(plot)"
   ]
  },
  {
   "attachments": {},
   "cell_type": "markdown",
   "metadata": {},
   "source": [
    "2. What are glyphs in Bokeh, and how can you add them to a Bokeh plot? Explain with an example."
   ]
  },
  {
   "cell_type": "code",
   "execution_count": 4,
   "metadata": {},
   "outputs": [],
   "source": [
    "#In Bokeh, glyphs are visual markers or shapes that can be added to a plot to represent data. Glyphs can be used to create various types of #visualizations such as scatter plots, line plots, bar charts.\n",
    "\n",
    "x = [1, 2, 3, 4, 5]\n",
    "y = [6, 7, 2, 4, 5]\n",
    "plot = figure(title='Bokeh Scatter Plot', x_axis_label='X', y_axis_label='Y')\n",
    "plot.circle(x, y, size=10, color='blue', alpha=0.5)\n",
    "output_file('scatter_plot.html')\n",
    "\n",
    "show(plot)"
   ]
  },
  {
   "attachments": {},
   "cell_type": "markdown",
   "metadata": {},
   "source": [
    "3. How can you customize the appearance of a Bokeh plot, including the axes, title, and legend?"
   ]
  },
  {
   "cell_type": "code",
   "execution_count": 9,
   "metadata": {},
   "outputs": [
    {
     "name": "stderr",
     "output_type": "stream",
     "text": [
      "ERROR:bokeh.core.validation.check:E-1001 (BAD_COLUMN_NAME): Glyph refers to nonexistent column name. This could either be due to a misspelling or typo, or due to an expected column being missing. : fill_alpha='0.5' [no close matches], hatch_alpha='0.5' [no close matches], line_alpha='0.5' [no close matches] {renderer: GlyphRenderer(id='p1650', ...)}\n"
     ]
    }
   ],
   "source": [
    "x = np.random.randn(100)\n",
    "y = np.random.randn(100)\n",
    "plot = figure(title=\"Customized Plot\",x_axis_label='X',y_axis_label='Y')\n",
    "# Customize axes\n",
    "plot.xaxis.axis_label_text_font_size = '16pt'\n",
    "plot.yaxis.axis_label_text_font_size = '16pt'\n",
    "plot.circle(x,y,size=5,color=\"pink\",alpha=\"0.5\")\n",
    "output_file('customized.html')\n",
    "show(plot)"
   ]
  },
  {
   "attachments": {},
   "cell_type": "markdown",
   "metadata": {},
   "source": [
    "4. What is a Bokeh server, and how can you use it to create interactive plots that can be updated in\n",
    "real time?"
   ]
  },
  {
   "attachments": {},
   "cell_type": "markdown",
   "metadata": {},
   "source": [
    "A Bokeh server is a Python process that allows you to create and serve interactive Bokeh plots and applications. It provides the capability to create dynamic, real-time visualizations that can be updated based on user interactions or external data changes.\n",
    "Code in seperate bokehserver.py file\n"
   ]
  },
  {
   "attachments": {},
   "cell_type": "markdown",
   "metadata": {},
   "source": [
    "5. How can you embed a Bokeh plot into a web page or dashboard using Flask or Django?\n"
   ]
  },
  {
   "cell_type": "code",
   "execution_count": 12,
   "metadata": {},
   "outputs": [
    {
     "data": {
      "text/plain": [
       "'c:\\\\Users\\\\arbas\\\\Documents\\\\Programs\\\\Python\\\\PWSKILLS\\\\PWSKILLS-Data-Science-Masters-Assigments\\\\Visualization\\\\plot.html'"
      ]
     },
     "execution_count": 12,
     "metadata": {},
     "output_type": "execute_result"
    }
   ],
   "source": [
    "from bokeh.plotting import figure, output_file, save\n",
    "x = [12,9,3,0,5,8,7]\n",
    "y = [1,2,3,4,5,6,7]\n",
    "plot = figure(title='Bokeh Plot', x_axis_label='X',y_axis_label='Y')\n",
    "plot.circle(x,y,size=5,color=\"red\",alpha=0.5)\n",
    "output_file('plot.html')\n",
    "save(plot)\n",
    "#FOR FLASK\n",
    "#<embed src=\"{{ url_for('static', filename='plot.html') }}\">\n",
    "\n",
    "#FOR DJANGO\n",
    "#<iframe src=\"{% static 'plot.html' %}\" width=\"100%\" height=\"500px\"></iframe>\n"
   ]
  }
 ],
 "metadata": {
  "kernelspec": {
   "display_name": "Python 3",
   "language": "python",
   "name": "python3"
  },
  "language_info": {
   "codemirror_mode": {
    "name": "ipython",
    "version": 3
   },
   "file_extension": ".py",
   "mimetype": "text/x-python",
   "name": "python",
   "nbconvert_exporter": "python",
   "pygments_lexer": "ipython3",
   "version": "3.11.2"
  },
  "orig_nbformat": 4
 },
 "nbformat": 4,
 "nbformat_minor": 2
}
