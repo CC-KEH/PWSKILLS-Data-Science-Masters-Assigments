{
 "cells": [
  {
   "attachments": {},
   "cell_type": "markdown",
   "metadata": {},
   "source": [
    "Q1- Explain the following with an example:\n",
    "    1. Artificial Intelligence\n",
    "    2. Machine Learning,\n",
    "    3. Deep Learning"
   ]
  },
  {
   "attachments": {},
   "cell_type": "markdown",
   "metadata": {},
   "source": [
    "1. AI enables machines to learn from experience, adapt to new inputs, and perform tasks with a high level of accuracy and efficiency. It encompasses various subfields, including machine learning and deep learning.\n",
    "Example: One example of artificial intelligence is a virtual personal assistant like Apple's Siri or Amazon's Alexa.\n",
    "\n",
    "2. Machine Learning (ML) is a subset of artificial intelligence that focuses on the development of algorithms and statistical models that enable computers to learn and make predictions or decisions without being explicitly programmed.\n",
    "example - spam email filter.\n",
    "\n",
    "3. Deep Learning is a subset of machine learning that focuses on developing artificial neural networks inspired by the human brain's structure and function. \n",
    "An example of deep learning is image recognition."
   ]
  },
  {
   "attachments": {},
   "cell_type": "markdown",
   "metadata": {},
   "source": [
    "Q2- what is supervised learning? list some examples of supervised learning"
   ]
  },
  {
   "attachments": {},
   "cell_type": "markdown",
   "metadata": {},
   "source": [
    "The goal of supervised learning is to learn a mapping function from the input features to the output labels, based on the provided labeled data. The algorithm generalizes from the training data to make predictions or classifications on unseen data.\n",
    "Examples, Linear Regression, Logistic regresssion,decision tree and etc"
   ]
  },
  {
   "attachments": {},
   "cell_type": "markdown",
   "metadata": {},
   "source": [
    "Q3- what is unsupervised learning? list some examples of supervised learning"
   ]
  },
  {
   "attachments": {},
   "cell_type": "markdown",
   "metadata": {},
   "source": [
    "Unsupervised learning is a type of machine learning where the algorithm learns from unlabeled data, without any predefined output labels or targets. The goal of unsupervised learning is to discover patterns, relationships, or structures within the data.\n",
    "examples - clustering algorithms"
   ]
  },
  {
   "attachments": {},
   "cell_type": "markdown",
   "metadata": {},
   "source": [
    "Q4- what is difference between ai, ml, dl and ds?"
   ]
  },
  {
   "attachments": {},
   "cell_type": "markdown",
   "metadata": {},
   "source": [
    "Artificial Intelligence (AI):\n",
    "AI is a broad field that encompasses the development of intelligent machines that can perform tasks that typically require human intelligence. It involves simulating human intelligence in machines through techniques such as machine learning, natural language processing, computer vision, and expert systems. AI aims to enable machines to perceive, reason, learn, and make decisions autonomously.\n",
    "\n",
    "Machine Learning (ML):\n",
    "ML is a subset of AI that focuses on algorithms and models that enable computers to learn from data and make predictions or decisions without explicit programming. ML algorithms learn from examples or patterns in the data to improve their performance over time. It involves the development of algorithms that can automatically learn and improve from experience, without being explicitly programmed for each task.\n",
    "\n",
    "Deep Learning (DL):\n",
    "DL is a specialized subfield of ML that focuses on artificial neural networks inspired by the structure and function of the human brain. DL algorithms are designed to learn and extract hierarchical representations or features from large amounts of data. They excel at processing complex and high-dimensional data such as images, audio, and text. DL has been particularly successful in tasks like image and speech recognition, natural language processing, and autonomous decision-making.\n",
    "\n",
    "Data Science (DS):\n",
    "DS is a multidisciplinary field that combines various techniques, tools, and methodologies to extract insights, knowledge, and value from data. It involves using statistical analysis, ML, and other methods to analyze and interpret data, derive meaningful patterns, and make data-driven decisions. DS encompasses data collection, data cleaning, data wrangling, exploratory data analysis, ML modeling, and communication of findings."
   ]
  },
  {
   "attachments": {},
   "cell_type": "markdown",
   "metadata": {},
   "source": [
    "Q5- difference between supervised, unsupervised and semi supervised learning?"
   ]
  },
  {
   "attachments": {},
   "cell_type": "markdown",
   "metadata": {},
   "source": [
    "Supervised Learning:\n",
    "Supervised learning is a type of machine learning where the algorithm learns from labeled training data. In supervised learning, each training example consists of input features (independent variables) and corresponding output labels (dependent variables). The goal is to learn a mapping function from the input features to the output labels based on the provided labeled data.\n",
    "\n",
    "Unsupervised Learning:\n",
    "Unsupervised learning is a type of machine learning where the algorithm learns from unlabeled data without any predefined output labels. The goal is to discover patterns, structures, or relationships within the data. Unlike supervised learning, there is no feedback or guidance on the correctness of predictions.\n",
    "\n",
    "Semi-Supervised Learning:\n",
    "Semi-supervised learning is a combination of supervised and unsupervised learning. It is used when there is a limited amount of labeled data available, but a larger amount of unlabeled data exists. The algorithm learns from both labeled and unlabeled data to improve its performance."
   ]
  },
  {
   "attachments": {},
   "cell_type": "markdown",
   "metadata": {},
   "source": [
    "Q6- what is train test validation split?"
   ]
  },
  {
   "attachments": {},
   "cell_type": "markdown",
   "metadata": {},
   "source": [
    "Training Set:\n",
    "The training set is the largest portion of the dataset and is used to train the model. It contains input data along with their corresponding output labels or targets.\n",
    "\n",
    "Testing Set:\n",
    "The testing set is used to evaluate the model's performance and assess its generalization capabilities. It is used to estimate how well the model will perform on new, unseen data. \n",
    "\n",
    "Validation Set:\n",
    "The validation set is an optional subset used to fine-tune the model's hyperparameters and prevent overfitting. Hyperparameters are configuration settings that control the learning process, such as the learning rate, regularization strength, or the number of hidden layers in a neural network."
   ]
  },
  {
   "attachments": {},
   "cell_type": "markdown",
   "metadata": {},
   "source": []
  }
 ],
 "metadata": {
  "language_info": {
   "name": "python"
  },
  "orig_nbformat": 4
 },
 "nbformat": 4,
 "nbformat_minor": 2
}
