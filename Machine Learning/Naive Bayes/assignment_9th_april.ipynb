{
 "cells": [
  {
   "cell_type": "markdown",
   "metadata": {},
   "source": [
    "**Q1. What is Bayes' theorem?**"
   ]
  },
  {
   "cell_type": "markdown",
   "metadata": {},
   "source": [
    "Bayes' theorem, named after the Reverend Thomas Bayes, is a fundamental concept in probability theory. It provides a way to update our beliefs or predictions about an event based on new evidence or information. Bayes' theorem is expressed mathematically as follows:\n",
    "\n",
    "P(A|B) = (P(B|A) * P(A)) /P(B)\n",
    "\n",
    "Where:\n",
    "-  P(A|B) is the probability of event A occurring given that event B has occurred.\n",
    "-  P(B|A) is the probability of event B occurring given that event A has occurred.\n",
    "-  P(A) is the prior probability of event A.\n",
    "-  P(B) is the prior probability of event B."
   ]
  },
  {
   "cell_type": "markdown",
   "metadata": {},
   "source": [
    "**Q2. What is the formula for Bayes' theorem?**"
   ]
  },
  {
   "cell_type": "markdown",
   "metadata": {},
   "source": [
    "\n",
    "P(A|B) = (P(B|A) * P(A)) /P(B)\n",
    "\n",
    "Where:\n",
    "-  P(A|B) is the probability of event A occurring given that event B has occurred.\n",
    "-  P(B|A) is the probability of event B occurring given that event A has occurred.\n",
    "-  P(A) is the prior probability of event A.\n",
    "-  P(B) is the prior probability of event B."
   ]
  },
  {
   "cell_type": "markdown",
   "metadata": {},
   "source": [
    "**Q3. How is Bayes' theorem used in practice?**"
   ]
  },
  {
   "cell_type": "markdown",
   "metadata": {},
   "source": [
    "1. **Bayesian Statistics:**\n",
    "   - In statistics, Bayes' theorem is fundamental to Bayesian inference. It is used to update the probability of a hypothesis based on new evidence or data. Bayes' theorem provides a formal mechanism for incorporating prior beliefs (prior probability) and updating them with observed data (likelihood) to obtain a posterior probability.\n",
    "\n",
    "2. **Medical Diagnosis:**\n",
    "   - Bayes' theorem is widely employed in medical diagnosis. For instance, in diagnostic tests, it helps calculate the probability of a patient having a particular condition given the results of a test. This is especially useful when interpreting the outcomes of screening tests and understanding the likelihood of false positives or false negatives.\n",
    "\n",
    "3. **Spam Filtering:**\n",
    "   - In email spam filtering, Bayes' theorem is used in Bayesian spam filters. The filter starts with prior probabilities of words or features being associated with spam or non-spam emails. As new emails are observed, these probabilities are updated based on the occurrence of words in the email, allowing the filter to dynamically adjust its spam classification.\n",
    "\n",
    "4. **Machine Learning:**\n",
    "   - Bayes' theorem is a foundation for Naive Bayes classifiers, a popular family of probabilistic classifiers in machine learning. These classifiers assume that features are conditionally independent given the class label, simplifying the computation of the posterior probability of a class given the observed features."
   ]
  },
  {
   "cell_type": "markdown",
   "metadata": {},
   "source": [
    "**Q4. What is the relationship between Bayes' theorem and conditional probability?**"
   ]
  },
  {
   "cell_type": "markdown",
   "metadata": {},
   "source": [
    "### Conditional Probability:\n",
    "\n",
    "The conditional probability of an event A given that another event B has occurred is denoted by \\( P(A|B) \\) and is defined as:\n",
    "\n",
    "P(A|B) = P(A and B)/P(B)\n",
    "\n",
    "where:\n",
    "-  P(A and B)  is the probability of both events A and B occurring.\n",
    "-  P(B)  is the probability of event B occurring.\n",
    "\n",
    "\n",
    "### Bayes' Theorem:\n",
    "\n",
    "In the context of Bayes' theorem:\n",
    "-  P(A|B) is the posterior probability of event A given that B has occurred.\n",
    "-  P(B|A) is the likelihood of event B occurring given that A has occurred.\n",
    "-  P(A) is the prior probability of event A.\n",
    "-  P(B) is the prior probability of event B."
   ]
  },
  {
   "cell_type": "markdown",
   "metadata": {},
   "source": [
    "**Q5. How do you choose which type of Naive Bayes classifier to use for any given problem?**"
   ]
  },
  {
   "cell_type": "markdown",
   "metadata": {},
   "source": [
    "1. **Gaussian Naive Bayes:**\n",
    "   - Assumes that the features follow a Gaussian (normal) distribution. This classifier is suitable for continuous numerical data.\n",
    "\n",
    "2. **Multinomial Naive Bayes:**\n",
    "   - Assumes that the features are generated from a multinomial distribution, which is suitable for discrete data such as word counts (e.g., text classification).\n",
    "\n",
    "3. **Bernoulli Naive Bayes:**\n",
    "   - Assumes that features are binary (0 or 1), representing the presence or absence of a particular feature. It is often used for binary classification problems."
   ]
  },
  {
   "cell_type": "markdown",
   "metadata": {},
   "source": [
    "Q6. Assignment:\n",
    "You have a dataset with two features, X1 and X2, and two possible classes, A and B. You want to use Naive\n",
    "Bayes to classify a new instance with features X1 = 3 and X2 = 4. The following table shows the frequency of\n",
    "each feature value for each class:\n",
    "Class X1=1 X1=2 X1=3 X2=1 X2=2 X2=3 X2=4\n",
    "        A   3   3   4   4   3   3   3\n",
    "        B   2   2   1   2   2   2   3\n",
    "Assuming equal prior probabilities for each class, which class would Naive Bayes predict the new instance\n",
    "to belong to?"
   ]
  },
  {
   "cell_type": "markdown",
   "metadata": {},
   "source": [
    "P(A|X1=3, X2=4) = {P(X1=3, X2=4|A) * P(A)}{P(X1=3, X2=4)}\n",
    "\n",
    "P(B|X1=3, X2=4) = {P(X1=3, X2=4|B) * P(B)}{P(X1=3, X2=4)}\n",
    "\n",
    "### Calculate Prior Probabilities:\n",
    "\n",
    "P(A) = P(B) = 1/2 (Equal prior probabilities)\n",
    "\n",
    "### Calculate Likelihoods:\n",
    "\n",
    "1. **For Class A:**\n",
    "   - P(X1=3|A) = 4/10\n",
    "   - P(X2=4|A) = 3/10\n",
    "   - P(X1=3, X2=4|A) = P(X1=3|A) * P(X2=4|A) = 4/10 * 3/10\n",
    "\n",
    "2. **For Class B:**\n",
    "   - P(X1=3|B) = 1/5 \n",
    "   - P(X2=4|B) = 3/5\n",
    "   - P(X1=3, X2=4|B) = P(X1=3|B) * P(X2=4|B) = 1/5 * 3/5 "
   ]
  }
 ],
 "metadata": {
  "language_info": {
   "name": "python"
  }
 },
 "nbformat": 4,
 "nbformat_minor": 2
}
