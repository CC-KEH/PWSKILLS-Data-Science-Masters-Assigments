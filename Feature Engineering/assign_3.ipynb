{
 "cells": [
  {
   "cell_type": "markdown",
   "id": "0ea06b3d",
   "metadata": {},
   "source": [
    "**Q1. What is Min-Max scaling, and how is it used in data preprocessing? Provide an example to illustrate its application.**"
   ]
  },
  {
   "cell_type": "markdown",
   "id": "b201fc47",
   "metadata": {},
   "source": [
    "Min-Max scaling, also known as feature scaling or normalization, is a data preprocessing technique used to transform numerical data into a specific range. The purpose of Min-Max scaling is to rescale the features so that they all have the same scale and range, typically between 0 and 1. This normalization is useful when features have different units or magnitudes, ensuring that each feature contributes equally to the analysis and modeling process.\n",
    "\n",
    "\n",
    "On applying Min Max scaling the datapoints will be transformed in the range [0,1] where the minimum value is represented 0 and the maximum value is represented as 1.\n"
   ]
  },
  {
   "cell_type": "code",
   "execution_count": 1,
   "id": "2f0e1846",
   "metadata": {},
   "outputs": [
    {
     "data": {
      "text/plain": [
       "array([[    35,  50000],\n",
       "       [    45,  90000],\n",
       "       [    25,  30000],\n",
       "       [    60, 120000]])"
      ]
     },
     "execution_count": 1,
     "metadata": {},
     "output_type": "execute_result"
    }
   ],
   "source": [
    "#Solving the above example using python\n",
    "from sklearn.preprocessing import MinMaxScaler\n",
    "import numpy as np\n",
    "\n",
    "# Sample dataset with Age and Income features\n",
    "data = np.array([[35, 50000],\n",
    "                 [45, 90000],\n",
    "                 [25, 30000],\n",
    "                 [60, 120000]])\n",
    "\n",
    "data"
   ]
  },
  {
   "cell_type": "code",
   "execution_count": 2,
   "id": "823d3101",
   "metadata": {},
   "outputs": [
    {
     "name": "stdout",
     "output_type": "stream",
     "text": [
      "Scaled Data : \n",
      "\n",
      "[[0.28571429 0.22222222]\n",
      " [0.57142857 0.66666667]\n",
      " [0.         0.        ]\n",
      " [1.         1.        ]]\n"
     ]
    }
   ],
   "source": [
    "value_scaling= MinMaxScaler()\n",
    "scaled_data = value_scaling.fit_transform(data)\n",
    "\n",
    "print(f\"Scaled Data : \\n\\n{scaled_data}\")"
   ]
  },
  {
   "cell_type": "markdown",
   "id": "fdcd1c38",
   "metadata": {},
   "source": [
    "**Q2. What is the Unit Vector technique in feature scaling, and how does it differ from Min-Max scaling? Provide an example to illustrate its application.**"
   ]
  },
  {
   "cell_type": "markdown",
   "id": "49f2591e",
   "metadata": {},
   "source": [
    "The Unit Vector technique, also known as \"Normalization\" or \"L2 normalization,\" is another data preprocessing method used for feature scaling. Unlike Min-Max scaling, which scales features to a specific range (e.g., [0, 1]), the Unit Vector technique scales each data point to have a Euclidean norm (magnitude) of 1. This normalization ensures that all data points lie on the surface of a unit hypersphere.\n",
    "\n",
    "Unit Vector Scaling is beneficial when the magnitude of the individual data points matters more than their absolute values."
   ]
  },
  {
   "cell_type": "code",
   "execution_count": 3,
   "id": "a9e0f2ea",
   "metadata": {},
   "outputs": [
    {
     "name": "stdout",
     "output_type": "stream",
     "text": [
      "Unit-Scaled Data:\n",
      "[[6.99999829e-04 9.99999755e-01]\n",
      " [4.99999938e-04 9.99999875e-01]\n",
      " [8.33333044e-04 9.99999653e-01]\n",
      " [4.99999938e-04 9.99999875e-01]]\n"
     ]
    }
   ],
   "source": [
    "import numpy as np\n",
    "from sklearn.preprocessing import normalize\n",
    "\n",
    "# Sample dataset with Age and Income features\n",
    "data = np.array([[35, 50000],\n",
    "                 [45, 90000],\n",
    "                 [25, 30000],\n",
    "                 [60, 120000]])\n",
    "\n",
    "# Normalize the data using Unit Vector scaling\n",
    "unit_scaled_data = normalize(data)\n",
    "\n",
    "# Print the unit-scaled data\n",
    "print(\"Unit-Scaled Data:\")\n",
    "print(unit_scaled_data)"
   ]
  },
  {
   "cell_type": "markdown",
   "id": "cffcae9c",
   "metadata": {},
   "source": [
    "**Q3. What is PCA (Principle Component Analysis), and how is it used in dimensionality reduction? Provide an example to illustrate its application.**"
   ]
  },
  {
   "cell_type": "markdown",
   "id": "78cabc9d",
   "metadata": {},
   "source": [
    "Principal Component Analysis is a dimensionality reduction techique ie, used to transform higher dimensional data to lower dimensional space while retaining most of the important information.\n",
    "\n",
    "It does this by identifying the principal components which are orthogonaldirections in the data that capture the maximum variance .\n",
    "\n",
    "The components are odered in the terms of their importance,the first component explaining the most variance the second component expalianing the second most variance and so on.\n",
    "\n",
    "The steps involved in performing PCA are :\n",
    "\n",
    "**Standardize the Data**: If the features are on different scales, it's essential to standardize the data (mean = 0, standard deviation = 1) to prevent features with larger scales from dominating the analysis.\n",
    "\n",
    "**Compute Covariance Matrix**: Calculate the covariance matrix of the standardized data. The covariance matrix describes the relationships between features and shows how they vary together.\n",
    "\n",
    "**Compute Eigenvectors and Eigenvalues**: Find the eigenvectors and eigenvalues of the covariance matrix. Eigenvectors represent the principal components, and eigenvalues represent the amount of variance explained by each component.\n",
    "\n",
    "**Select Principal Components**: Sort the eigenvalues in descending order and choose the top k eigenvectors (principal components) that explain the most variance.\n",
    "\n",
    "**Project Data**: Project the original data onto the selected principal components to obtain a lower-dimensional representation."
   ]
  },
  {
   "cell_type": "code",
   "execution_count": 4,
   "id": "031a44e4",
   "metadata": {},
   "outputs": [
    {
     "data": {
      "text/plain": [
       "array([[-3.71803234,  1.29322258],\n",
       "       [-3.79666785, -2.02062546],\n",
       "       [ 2.53724176,  2.65714845],\n",
       "       [ 4.97745843, -1.92974557]])"
      ]
     },
     "execution_count": 4,
     "metadata": {},
     "output_type": "execute_result"
    }
   ],
   "source": [
    "import numpy as np\n",
    "from sklearn.decomposition import PCA\n",
    "\n",
    "# Sample dataset with high-dimensional data\n",
    "data = np.array([[2, 8, 6],\n",
    "                 [3, 7, 9],\n",
    "                 [5, 4, 2],\n",
    "                 [8, 1, 5]])\n",
    "\n",
    "#create a PCA object and specify the number of components\n",
    "pca_obj = PCA(n_components=2)\n",
    "\n",
    "transformed_data = pca_obj.fit_transform(data)\n",
    "transformed_data"
   ]
  },
  {
   "cell_type": "markdown",
   "id": "3113c496",
   "metadata": {},
   "source": [
    "Here we see the input is in 3-d but we have tranformed the data to 2-d by using PCA .The transformed data now has two principal components that explain the most variance in the original data. The first component (column 1) accounts for most of the variance, and the second component (column 2) accounts for the second most variance."
   ]
  },
  {
   "cell_type": "markdown",
   "id": "adb2a199",
   "metadata": {},
   "source": [
    "**Q4. What is the relationship between PCA and Feature Extraction, and how can PCA be used for Feature Extraction? Provide an example to illustrate this concept.**"
   ]
  },
  {
   "cell_type": "markdown",
   "id": "694a7530",
   "metadata": {},
   "source": [
    "Feature extraction aims to transform the original high-dimensional data into a lower-dimensional representation by combining or selecting relevant features. The objective is to preserve as much relevant information as possible while reducing the data's dimensionality.PCA and feature extraction are closely related to each other and PCA is a feature Extraction technique.\n",
    "\n",
    "PCA achieves feature extraction by identifying the principal components (eigenvectors) of the data, which are the directions along which the data varies the most. These principal components are used to construct a new set of features (the transformed data) that retain most of the important information from the original data. Each principal component is a linear combination of the original features, which allows us to represent the data in a lower-dimensional space.\n",
    "\n",
    "The principal components are sorted in descending order of their corresponding eigenvalues, representing the amount of variance explained by each component. The top k principal components can be selected to form the new feature set, reducing the dimensionality of the data from the original number of features to k dimensions."
   ]
  },
  {
   "cell_type": "code",
   "execution_count": 5,
   "id": "b9c1f2bd",
   "metadata": {},
   "outputs": [
    {
     "data": {
      "text/plain": [
       "array([[-3.71803234,  1.29322258],\n",
       "       [-3.79666785, -2.02062546],\n",
       "       [ 2.53724176,  2.65714845],\n",
       "       [ 4.97745843, -1.92974557]])"
      ]
     },
     "execution_count": 5,
     "metadata": {},
     "output_type": "execute_result"
    }
   ],
   "source": [
    "import numpy as np\n",
    "from sklearn.decomposition import PCA\n",
    "\n",
    "data = np.array([[2, 8, 6],\n",
    "                 [3, 7, 9],\n",
    "                 [5, 4, 2],\n",
    "                 [8, 1, 5]])\n",
    "\n",
    "pca_obj = PCA(n_components=2)\n",
    "\n",
    "trans_data = pca_obj.fit_transform(data)\n",
    "\n",
    "trans_data"
   ]
  },
  {
   "cell_type": "markdown",
   "id": "32848dcb",
   "metadata": {},
   "source": [
    "We use PCA for feature extraction to reduce the dimensionality of the data from higher to lower dimension (Here in this example, 3 dimensions to 2 dimensions). The transformed data now contains two principal components, representing the new features. These two principal components capture the most important information in the original data.\n",
    "\n",
    "By using PCA for feature extraction, we can represent the data in a lower-dimensional space while retaining the primary patterns and relationships between data points."
   ]
  },
  {
   "cell_type": "markdown",
   "id": "4d5452f1",
   "metadata": {},
   "source": [
    "**Q5. You are working on a project to build a recommendation system for a food delivery service. The dataset contains features such as price, rating, and delivery time. Explain how you would use Min-Max scaling to preprocess the data.**"
   ]
  },
  {
   "cell_type": "markdown",
   "id": "b0175ce0",
   "metadata": {},
   "source": [
    "In the project to build a recommendation system for a food delivery service, Min-Max scaling can be used to preprocess the numerical features such as price, rating, and delivery time. Min-Max scaling will ensure that all these features are transformed to a common scale, typically ranging from 0 to 1, which is essential for the recommendation system to provide accurate and meaningful recommendations.\n",
    "\n",
    "Min-Max scaling can be applied to preprocess the data:\n",
    "\n",
    "**Data Collection**: Collect the dataset containing relevant information about food items, including features like price, rating, and delivery time.\n",
    "\n",
    "**Data Exploration**: Explore the dataset to understand the range and distribution of the numerical features (price, rating, and delivery time).\n",
    "\n",
    "**Data Standardization (Optional)**: Before applying Min-Max scaling, it's essential to check if the numerical features have different scales. If they are already on similar scales, standardization (mean = 0, standard deviation = 1) might not be necessary. However, if features have different ranges, standardization can be performed to bring all features to a common scale.\n",
    "\n",
    "**Min-Max Scaling**: Apply Min-Max scaling to each numerical feature. By performing this scaling, all features will be transformed to a common scale, ranging from 0 to 1.\n",
    "\n",
    "**Updated Dataset**: After Min-Max scaling, you will have an updated dataset with the transformed features, which are now on a common scale.\n",
    "\n",
    "The Min-Max scaled dataset can then be used to build the recommendation system. When a user requests food recommendations, the system can compare the Min-Max scaled features of different food items to identify the most suitable recommendations based on the user's preferences for price, rating, and delivery time. Min-Max scaling ensures that each of these features contributes equally to the recommendation process, leading to a fair and effective recommendation system for the food delivery service."
   ]
  },
  {
   "cell_type": "code",
   "execution_count": 6,
   "id": "a44cee78",
   "metadata": {},
   "outputs": [
    {
     "data": {
      "text/html": [
       "<div>\n",
       "<style scoped>\n",
       "    .dataframe tbody tr th:only-of-type {\n",
       "        vertical-align: middle;\n",
       "    }\n",
       "\n",
       "    .dataframe tbody tr th {\n",
       "        vertical-align: top;\n",
       "    }\n",
       "\n",
       "    .dataframe thead th {\n",
       "        text-align: right;\n",
       "    }\n",
       "</style>\n",
       "<table border=\"1\" class=\"dataframe\">\n",
       "  <thead>\n",
       "    <tr style=\"text-align: right;\">\n",
       "      <th></th>\n",
       "      <th>food_item</th>\n",
       "      <th>price</th>\n",
       "      <th>rating</th>\n",
       "      <th>delivery_time</th>\n",
       "    </tr>\n",
       "  </thead>\n",
       "  <tbody>\n",
       "    <tr>\n",
       "      <th>0</th>\n",
       "      <td>Pizza</td>\n",
       "      <td>12.50</td>\n",
       "      <td>4.2</td>\n",
       "      <td>30</td>\n",
       "    </tr>\n",
       "    <tr>\n",
       "      <th>1</th>\n",
       "      <td>Burger</td>\n",
       "      <td>8.90</td>\n",
       "      <td>3.8</td>\n",
       "      <td>25</td>\n",
       "    </tr>\n",
       "    <tr>\n",
       "      <th>2</th>\n",
       "      <td>Pasta</td>\n",
       "      <td>10.00</td>\n",
       "      <td>4.5</td>\n",
       "      <td>35</td>\n",
       "    </tr>\n",
       "    <tr>\n",
       "      <th>3</th>\n",
       "      <td>Sushi</td>\n",
       "      <td>15.75</td>\n",
       "      <td>4.7</td>\n",
       "      <td>40</td>\n",
       "    </tr>\n",
       "  </tbody>\n",
       "</table>\n",
       "</div>"
      ],
      "text/plain": [
       "  food_item  price  rating  delivery_time\n",
       "0     Pizza  12.50     4.2             30\n",
       "1    Burger   8.90     3.8             25\n",
       "2     Pasta  10.00     4.5             35\n",
       "3     Sushi  15.75     4.7             40"
      ]
     },
     "execution_count": 6,
     "metadata": {},
     "output_type": "execute_result"
    }
   ],
   "source": [
    "#for example we have this data \n",
    "import pandas as pd\n",
    "from sklearn.preprocessing import MinMaxScaler\n",
    "\n",
    "df = pd.DataFrame({ 'food_item': ['Pizza', 'Burger', 'Pasta', 'Sushi'],\n",
    "    'price': [12.5, 8.9, 10.0, 15.75],\n",
    "    'rating': [4.2, 3.8, 4.5, 4.7],\n",
    "    'delivery_time': [30, 25, 35, 40]})\n",
    "\n",
    "df.head()"
   ]
  },
  {
   "cell_type": "code",
   "execution_count": 7,
   "id": "76b8a08f",
   "metadata": {},
   "outputs": [
    {
     "data": {
      "text/html": [
       "<div>\n",
       "<style scoped>\n",
       "    .dataframe tbody tr th:only-of-type {\n",
       "        vertical-align: middle;\n",
       "    }\n",
       "\n",
       "    .dataframe tbody tr th {\n",
       "        vertical-align: top;\n",
       "    }\n",
       "\n",
       "    .dataframe thead th {\n",
       "        text-align: right;\n",
       "    }\n",
       "</style>\n",
       "<table border=\"1\" class=\"dataframe\">\n",
       "  <thead>\n",
       "    <tr style=\"text-align: right;\">\n",
       "      <th></th>\n",
       "      <th>scaled_price</th>\n",
       "      <th>scaled_rating</th>\n",
       "      <th>scaled_delivery_time</th>\n",
       "    </tr>\n",
       "  </thead>\n",
       "  <tbody>\n",
       "    <tr>\n",
       "      <th>0</th>\n",
       "      <td>0.525547</td>\n",
       "      <td>0.444444</td>\n",
       "      <td>0.333333</td>\n",
       "    </tr>\n",
       "    <tr>\n",
       "      <th>1</th>\n",
       "      <td>0.000000</td>\n",
       "      <td>0.000000</td>\n",
       "      <td>0.000000</td>\n",
       "    </tr>\n",
       "    <tr>\n",
       "      <th>2</th>\n",
       "      <td>0.160584</td>\n",
       "      <td>0.777778</td>\n",
       "      <td>0.666667</td>\n",
       "    </tr>\n",
       "    <tr>\n",
       "      <th>3</th>\n",
       "      <td>1.000000</td>\n",
       "      <td>1.000000</td>\n",
       "      <td>1.000000</td>\n",
       "    </tr>\n",
       "  </tbody>\n",
       "</table>\n",
       "</div>"
      ],
      "text/plain": [
       "   scaled_price  scaled_rating  scaled_delivery_time\n",
       "0      0.525547       0.444444              0.333333\n",
       "1      0.000000       0.000000              0.000000\n",
       "2      0.160584       0.777778              0.666667\n",
       "3      1.000000       1.000000              1.000000"
      ]
     },
     "execution_count": 7,
     "metadata": {},
     "output_type": "execute_result"
    }
   ],
   "source": [
    "scaler = MinMaxScaler()\n",
    "scaled_df = pd.DataFrame(scaler.fit_transform(df[['price','rating','delivery_time']]),columns=['scaled_price','scaled_rating','scaled_delivery_time'])\n",
    "scaled_df"
   ]
  },
  {
   "cell_type": "code",
   "execution_count": 8,
   "id": "2f68c3d5",
   "metadata": {},
   "outputs": [
    {
     "data": {
      "text/html": [
       "<div>\n",
       "<style scoped>\n",
       "    .dataframe tbody tr th:only-of-type {\n",
       "        vertical-align: middle;\n",
       "    }\n",
       "\n",
       "    .dataframe tbody tr th {\n",
       "        vertical-align: top;\n",
       "    }\n",
       "\n",
       "    .dataframe thead th {\n",
       "        text-align: right;\n",
       "    }\n",
       "</style>\n",
       "<table border=\"1\" class=\"dataframe\">\n",
       "  <thead>\n",
       "    <tr style=\"text-align: right;\">\n",
       "      <th></th>\n",
       "      <th>food_item</th>\n",
       "      <th>price</th>\n",
       "      <th>rating</th>\n",
       "      <th>delivery_time</th>\n",
       "      <th>scaled_price</th>\n",
       "      <th>scaled_rating</th>\n",
       "      <th>scaled_delivery_time</th>\n",
       "    </tr>\n",
       "  </thead>\n",
       "  <tbody>\n",
       "    <tr>\n",
       "      <th>0</th>\n",
       "      <td>Pizza</td>\n",
       "      <td>12.50</td>\n",
       "      <td>4.2</td>\n",
       "      <td>30</td>\n",
       "      <td>0.525547</td>\n",
       "      <td>0.444444</td>\n",
       "      <td>0.333333</td>\n",
       "    </tr>\n",
       "    <tr>\n",
       "      <th>1</th>\n",
       "      <td>Burger</td>\n",
       "      <td>8.90</td>\n",
       "      <td>3.8</td>\n",
       "      <td>25</td>\n",
       "      <td>0.000000</td>\n",
       "      <td>0.000000</td>\n",
       "      <td>0.000000</td>\n",
       "    </tr>\n",
       "    <tr>\n",
       "      <th>2</th>\n",
       "      <td>Pasta</td>\n",
       "      <td>10.00</td>\n",
       "      <td>4.5</td>\n",
       "      <td>35</td>\n",
       "      <td>0.160584</td>\n",
       "      <td>0.777778</td>\n",
       "      <td>0.666667</td>\n",
       "    </tr>\n",
       "    <tr>\n",
       "      <th>3</th>\n",
       "      <td>Sushi</td>\n",
       "      <td>15.75</td>\n",
       "      <td>4.7</td>\n",
       "      <td>40</td>\n",
       "      <td>1.000000</td>\n",
       "      <td>1.000000</td>\n",
       "      <td>1.000000</td>\n",
       "    </tr>\n",
       "  </tbody>\n",
       "</table>\n",
       "</div>"
      ],
      "text/plain": [
       "  food_item  price  rating  delivery_time  scaled_price  scaled_rating  \\\n",
       "0     Pizza  12.50     4.2             30      0.525547       0.444444   \n",
       "1    Burger   8.90     3.8             25      0.000000       0.000000   \n",
       "2     Pasta  10.00     4.5             35      0.160584       0.777778   \n",
       "3     Sushi  15.75     4.7             40      1.000000       1.000000   \n",
       "\n",
       "   scaled_delivery_time  \n",
       "0              0.333333  \n",
       "1              0.000000  \n",
       "2              0.666667  \n",
       "3              1.000000  "
      ]
     },
     "execution_count": 8,
     "metadata": {},
     "output_type": "execute_result"
    }
   ],
   "source": [
    "pd.concat([df,scaled_df],axis = 1)"
   ]
  },
  {
   "cell_type": "markdown",
   "id": "e7772adf",
   "metadata": {},
   "source": [
    "**Q6. You are working on a project to build a model to predict stock prices. The dataset contains many features, such as company financial data and market trends. Explain how you would use PCA to reduce the dimensionality of the dataset.**"
   ]
  },
  {
   "cell_type": "markdown",
   "id": "1d942295",
   "metadata": {},
   "source": [
    "In the project to predict stock prices, PCA can be used to reduce the dimensionality of the dataset by identifying the most significant patterns and relationships among the features. By doing so, we can simplify the model's complexity, improve computational efficiency, and potentially enhance the model's predictive performance.\n",
    "\n",
    "PCA can be applied to reduce the dimensionality of the dataset in the following steps:\n",
    "\n",
    "**Data Collection**: Gather the dataset containing various features, such as company financial data (e.g., revenue, earnings, debt) and market trends (e.g., stock indices, economic indicators).\n",
    "\n",
    "**Data Preprocessing**: Before applying PCA, it's essential to preprocess the data by handling missing values, standardizing or normalizing numerical features, and encoding categorical features if necessary.\n",
    "\n",
    "**Feature Standardization**: To ensure that all features have the same scale, it's crucial to standardize the numerical features, so they have zero mean and unit variance. This step is necessary because PCA is sensitive to the scale of features.\n",
    "\n",
    "**PCA Transformation**: Apply PCA to the standardized feature matrix. PCA will compute the principal components, which are the orthogonal directions that capture the most significant variance in the data.\n",
    "\n",
    "**Eigenvalue and Eigenvector Analysis**: Examine the eigenvalues and corresponding eigenvectors obtained from the PCA. The eigenvalues represent the variance explained by each principal component, and the eigenvectors represent the direction of the principal components.\n",
    "\n",
    "**Select the Number of Components**: Determine the number of principal components to retain in the new reduced feature space. One common approach is to select a number of components that capture a significant portion (e.g., 95% or 99%) of the total variance in the data.\n",
    "\n",
    "**Projection of Data**: Project the original data onto the selected principal components to obtain a lower-dimensional representation of the dataset.\n",
    "\n",
    "By reducing the dimensionality using PCA, we can now work with a smaller set of principal components that represent the most important patterns in the data. These components can be used as input features for building the stock price prediction model."
   ]
  },
  {
   "cell_type": "code",
   "execution_count": 9,
   "id": "56254039",
   "metadata": {},
   "outputs": [],
   "source": [
    "import numpy as np\n",
    "from sklearn.preprocessing import StandardScaler\n",
    "from sklearn.decomposition import PCA\n",
    "\n",
    "\n",
    "# Example: Creating a synthetic dataset\n",
    "np.random.seed(42)\n",
    "num_samples = 100\n",
    "num_features = 20\n",
    "data = np.random.rand(num_samples, num_features)\n",
    "\n",
    "# Assuming 'target' contains the target variable (stock prices)\n",
    "target = np.random.rand(num_samples)\n"
   ]
  },
  {
   "cell_type": "code",
   "execution_count": 10,
   "id": "e5e31b9b",
   "metadata": {},
   "outputs": [],
   "source": [
    "#Standarizing the features \n",
    "scaler = StandardScaler()\n",
    "scaled_X = scaler.fit_transform(data)\n",
    "\n",
    "#Apply PCA\n",
    "k=10\n",
    "pca_obj = PCA(n_components=k) #retain 10 principal components\n",
    "reduced_X = pca_obj.fit_transform(scaled_X)"
   ]
  },
  {
   "cell_type": "code",
   "execution_count": 11,
   "id": "7e3e5c38",
   "metadata": {},
   "outputs": [],
   "source": [
    "#Analyze Explained Variance\n",
    "explained_variance_ratio = pca_obj.explained_variance_ratio_\n",
    "cumulative_variance_ratio = np.cumsum(explained_variance_ratio)"
   ]
  },
  {
   "cell_type": "code",
   "execution_count": 12,
   "id": "31e596f9",
   "metadata": {},
   "outputs": [
    {
     "data": {
      "image/png": "[encoded data removed]",
      "text/plain": [
       "<Figure size 640x480 with 1 Axes>"
      ]
     },
     "metadata": {},
     "output_type": "display_data"
    }
   ],
   "source": [
    "# Plot the scree plot to visualize explained variance\n",
    "import matplotlib.pyplot as plt\n",
    "\n",
    "plt.plot(range(1, k + 1), cumulative_variance_ratio, marker='o')\n",
    "plt.xlabel('Number of Principal Components')\n",
    "plt.ylabel('Cumulative Explained Variance Ratio')\n",
    "plt.title('Scree Plot')\n",
    "plt.grid(True)\n",
    "plt.show()"
   ]
  },
  {
   "cell_type": "code",
   "execution_count": 13,
   "id": "77ce69ad",
   "metadata": {},
   "outputs": [
    {
     "data": {
      "text/plain": [
       "array([[-1.95990331e+00, -9.71437997e-01,  1.83486832e+00,\n",
       "         1.55093229e+00,  4.65818193e-01,  2.06607992e+00,\n",
       "        -3.85763615e-01, -3.95275945e-02],\n",
       "       [ 2.81537429e+00,  7.65014745e-01,  9.61682462e-02,\n",
       "        -6.00001858e-01,  2.65254013e-01, -1.85965920e+00,\n",
       "        -7.10596118e-01, -4.45687033e-01],\n",
       "       [ 9.78039367e-02,  2.37557753e+00,  1.10073417e+00,\n",
       "         2.08523646e-01, -1.39085485e+00,  1.25079112e-01,\n",
       "        -3.94940283e-01, -9.23495855e-01],\n",
       "       [ 2.30257883e+00,  2.68921487e-01,  5.76603377e-01,\n",
       "        -5.40221995e-02,  2.14712458e+00, -2.07353996e+00,\n",
       "         8.63816821e-01, -2.63592121e-01],\n",
       "       [-9.49662781e-01,  1.27582355e-02, -1.04481134e+00,\n",
       "         1.52616574e+00,  8.45448126e-01,  5.20846992e-01,\n",
       "         1.12136855e-01,  3.66876135e-01],\n",
       "       [ 8.94355959e-01,  1.69255946e+00,  6.15993096e-01,\n",
       "        -3.35042421e-01, -3.08926192e-01, -9.47935121e-01,\n",
       "        -1.53251599e-01,  2.11610947e+00],\n",
       "       [ 7.71892976e-01, -1.30150294e+00, -1.23846177e+00,\n",
       "         2.45860607e+00,  1.30085525e-01, -1.80225472e+00,\n",
       "        -1.60955549e-02, -1.80946227e-01],\n",
       "       [ 1.78229637e+00,  5.90245631e-02, -3.10575941e+00,\n",
       "         1.29038655e+00, -2.39942001e-01, -9.11369551e-01,\n",
       "        -4.98271815e-01, -4.57786777e-01],\n",
       "       [ 1.35027931e+00, -1.57655773e+00,  3.31814212e-02,\n",
       "        -1.43545021e-01, -5.79424325e-01, -7.93979568e-01,\n",
       "         1.58964768e+00, -7.68428017e-01],\n",
       "       [-1.62803628e+00, -1.00938172e-01,  3.12562914e-01,\n",
       "        -1.99720788e+00, -7.67606025e-01,  2.98489806e-01,\n",
       "        -1.01947654e+00, -5.76720770e-01],\n",
       "       [-2.97113071e-02,  5.17349096e-01, -9.83420116e-01,\n",
       "         4.81089140e-01, -1.87174361e+00, -3.02728976e-02,\n",
       "        -2.17360034e+00, -5.54987481e-01],\n",
       "       [-1.03553034e+00,  1.61185516e-02, -5.09353040e-01,\n",
       "        -4.06794279e-01, -3.60470606e-01, -2.78529663e-01,\n",
       "         1.16704756e+00,  1.77875182e+00],\n",
       "       [-1.46733977e+00, -2.29081876e+00, -3.09575154e-02,\n",
       "        -7.21831190e-01,  1.93572795e+00,  8.96131468e-01,\n",
       "         1.76673939e+00, -1.15583489e+00],\n",
       "       [-4.44326657e-01,  1.31792629e+00, -3.76142787e-01,\n",
       "        -7.73502182e-02, -1.87112562e+00, -4.11548646e-01,\n",
       "         1.00635937e+00, -5.72297727e-01],\n",
       "       [-6.78529385e-01, -8.92390362e-01, -1.61659309e+00,\n",
       "         1.73440823e-01,  1.24548131e+00, -6.52053157e-01,\n",
       "         7.16968411e-01,  2.29726831e+00],\n",
       "       [ 2.59792617e+00,  1.39506170e+00,  1.30827204e+00,\n",
       "        -3.22144910e-01,  1.37425904e+00, -3.34587746e-01,\n",
       "         1.22810151e+00, -3.12308273e-01],\n",
       "       [-5.78000486e-01, -3.64877577e-01, -7.99998275e-01,\n",
       "         9.90879343e-01,  1.49965224e+00,  4.91715588e-01,\n",
       "         1.68629733e+00, -6.69532010e-01],\n",
       "       [-1.75301311e+00, -1.27775068e+00,  5.06385107e-02,\n",
       "        -3.98630765e-01, -1.57524392e+00, -1.29326784e-01,\n",
       "        -6.77771544e-01,  3.55603987e-01],\n",
       "       [ 3.23413946e-01,  9.38559884e-01,  2.01992730e-01,\n",
       "        -1.53536910e-01,  1.64073397e+00, -1.68782950e+00,\n",
       "         2.11505896e+00,  1.97660756e+00],\n",
       "       [ 1.68440064e+00,  4.73059617e-02,  1.17863727e+00,\n",
       "        -2.32306093e+00, -4.99234156e-01,  5.11898220e-01,\n",
       "         1.32554564e+00,  5.41666277e-02],\n",
       "       [ 2.47538467e-01, -2.14125180e-01,  2.08458383e+00,\n",
       "        -4.28775423e-01, -2.41278828e+00,  1.93898263e+00,\n",
       "        -3.62904931e-01, -3.77332192e-01],\n",
       "       [-2.77356608e+00, -1.10450800e+00, -9.45321264e-02,\n",
       "         1.21923079e+00,  5.87493940e-01, -1.50474443e-01,\n",
       "        -1.03070096e+00, -1.17532778e+00],\n",
       "       [-8.57144942e-01,  2.76519600e+00,  6.20635471e-01,\n",
       "         1.46021466e+00,  8.72303660e-01, -4.00464804e-01,\n",
       "         1.75943283e+00, -6.57444594e-01],\n",
       "       [-3.38151718e-01,  9.27367700e-01,  3.06755670e+00,\n",
       "        -4.72342246e-01,  1.67785152e+00, -7.84558493e-01,\n",
       "        -1.75661668e+00,  2.91780810e-01],\n",
       "       [ 1.34665076e+00, -2.54693904e+00,  1.65334766e+00,\n",
       "        -1.19755056e+00, -1.29325800e+00,  5.83123874e-01,\n",
       "         7.24469377e-01,  1.72462561e-01],\n",
       "       [-2.83724052e+00,  1.38784071e+00, -3.78669263e-01,\n",
       "        -1.55000208e+00, -5.27739854e-01,  7.93133733e-01,\n",
       "         1.83131374e+00,  2.52639765e-01],\n",
       "       [ 5.74056711e-01,  1.21049360e+00, -1.93177529e-01,\n",
       "        -1.80920775e+00, -4.91502588e-02,  7.28403061e-01,\n",
       "        -1.95747823e-01, -3.08946636e-01],\n",
       "       [ 5.91710437e-01, -3.73991307e-02,  1.05657118e+00,\n",
       "        -8.47560217e-03, -1.30808050e+00,  1.85054627e-02,\n",
       "        -7.05158005e-01, -2.16396815e-01],\n",
       "       [-3.96028851e-01,  1.54632859e-01, -1.18521494e+00,\n",
       "         4.09876178e-01,  2.80841466e-01, -4.13183031e-01,\n",
       "        -1.89120631e+00, -1.02354201e+00],\n",
       "       [ 2.10321709e+00, -1.69645536e-01,  1.40966171e-01,\n",
       "         2.44123172e+00,  7.53111050e-01,  8.92809981e-01,\n",
       "        -2.97516967e-02,  2.74374126e-01],\n",
       "       [-1.33630888e-01, -1.80112092e+00,  1.28483229e+00,\n",
       "         8.90931193e-01, -9.67862363e-01, -1.00376678e+00,\n",
       "        -2.75259998e+00,  1.26410261e+00],\n",
       "       [-5.69756471e-01,  1.64352802e+00, -8.04086865e-02,\n",
       "         8.37584147e-01, -1.53107488e-01, -9.23147173e-01,\n",
       "        -2.22330620e-02,  3.89899121e-01],\n",
       "       [-9.54239322e-01, -2.23255095e-01,  1.78441617e+00,\n",
       "         4.57730939e-01, -7.76408122e-01, -1.27966893e+00,\n",
       "         4.80394102e-01,  1.07994936e-01],\n",
       "       [ 7.28479393e-01, -1.55761224e+00,  1.47639549e+00,\n",
       "         1.09942261e+00, -2.53379331e-01, -2.77852784e-02,\n",
       "        -2.39088398e+00,  1.13000926e+00],\n",
       "       [-6.16725383e-01,  3.02872898e-02, -1.42428128e+00,\n",
       "        -4.21809590e-01,  3.79285246e-01,  9.82855211e-01,\n",
       "         1.54870960e-02,  1.46213073e-01],\n",
       "       [-4.52086807e-01, -1.07918185e+00, -1.45921124e+00,\n",
       "         3.16669771e-01,  5.69112029e-01, -2.05638427e+00,\n",
       "        -5.93077060e-01, -1.62162587e+00],\n",
       "       [-1.25053398e+00,  1.16275336e-01, -5.15976944e-01,\n",
       "        -3.59182305e-01,  2.84668427e-01, -8.50703787e-01,\n",
       "        -1.60185934e+00, -2.11645667e+00],\n",
       "       [-1.12940694e+00, -1.94862126e+00,  1.17310904e+00,\n",
       "        -1.77461837e+00,  5.40370185e-02,  2.02276019e-01,\n",
       "        -9.53358069e-01, -2.33368218e-02],\n",
       "       [-1.35559121e+00, -6.61778635e-01,  1.69878369e+00,\n",
       "         7.51204991e-01, -4.74866700e-01, -1.62288272e+00,\n",
       "        -7.06440491e-01, -9.58933162e-01],\n",
       "       [-9.51792832e-01, -2.55326026e+00,  2.10003995e-01,\n",
       "        -1.00425954e+00, -1.57901561e-01, -1.51768220e+00,\n",
       "         6.40679594e-01,  2.79499918e-01],\n",
       "       [ 8.17012605e-01,  2.32569936e+00, -1.08877553e+00,\n",
       "        -7.31971351e-02,  6.33108706e-01, -1.32971234e+00,\n",
       "         1.87134592e-01, -1.74619628e+00],\n",
       "       [ 9.66762911e-01, -1.97490747e+00, -8.90855110e-01,\n",
       "        -9.01690132e-01,  1.80577653e-01, -8.59182206e-01,\n",
       "         3.30316243e-01, -2.36238013e-01],\n",
       "       [-1.44599472e+00,  8.54833486e-01,  3.36652133e+00,\n",
       "         1.09293360e+00,  6.11054811e-01, -2.61807324e-01,\n",
       "         2.55334882e-01, -1.12603770e+00],\n",
       "       [-4.61683845e-01, -1.52873416e+00, -9.00408319e-01,\n",
       "         5.55992174e-02,  7.69444259e-01,  1.59720652e+00,\n",
       "         1.93757835e+00, -4.05330662e-01],\n",
       "       [-1.13937009e+00,  1.94183592e+00, -1.82702527e+00,\n",
       "         3.04503659e+00, -1.16931149e+00,  5.82604427e-01,\n",
       "         4.06122255e-02, -1.28247102e-01],\n",
       "       [-1.03437497e+00,  4.78890437e-01, -8.79348855e-01,\n",
       "        -7.04574333e-01, -5.77544394e-01, -1.47851333e+00,\n",
       "         1.87262301e-01, -1.15470133e+00],\n",
       "       [-1.68226719e+00,  3.42718003e-01, -4.49114382e-01,\n",
       "         3.21969787e-01,  2.67010593e-01,  2.98258355e+00,\n",
       "        -1.72767234e+00, -6.53400221e-01],\n",
       "       [ 1.13513203e+00,  8.22700582e-01,  1.82273082e+00,\n",
       "         3.99156051e-01,  4.26085021e-01,  7.94093840e-01,\n",
       "         1.72048940e-01,  6.57587848e-01],\n",
       "       [-1.08556850e+00, -3.53997423e-01,  4.17220075e-01,\n",
       "         8.17281104e-01, -1.80608705e+00,  2.94825835e-01,\n",
       "         1.01239028e+00,  1.78809634e+00],\n",
       "       [ 1.59783377e-01, -7.16068319e-02,  2.41532123e-02,\n",
       "         7.68635557e-01, -1.40544713e+00, -1.66539476e+00,\n",
       "         2.41052698e+00,  1.27968622e+00],\n",
       "       [-1.72999639e+00,  8.34689774e-01,  1.26234183e+00,\n",
       "        -8.97650993e-01,  8.52254789e-01,  3.85776610e-01,\n",
       "        -1.60923178e+00, -2.69431352e-01],\n",
       "       [-1.63726340e+00,  7.62763922e-04, -1.12305980e-01,\n",
       "        -8.38317521e-01,  3.11711907e+00,  6.36511186e-01,\n",
       "        -8.93894356e-02, -3.07959707e-01],\n",
       "       [ 2.14001466e+00,  1.26273082e+00, -6.77608819e-01,\n",
       "        -3.80790847e-01, -2.43083260e+00,  1.80426654e+00,\n",
       "         7.37165641e-01, -3.55374199e-01],\n",
       "       [ 2.67689586e+00, -2.49805396e+00, -7.05878770e-01,\n",
       "         1.46515682e+00,  3.24673074e-01,  1.10886581e+00,\n",
       "        -6.21808579e-01, -1.13417036e+00],\n",
       "       [ 2.55504770e-03,  1.29022213e+00, -8.07265641e-01,\n",
       "        -2.19545034e+00, -1.46261046e+00,  1.33952801e+00,\n",
       "         7.48791129e-01,  2.34399481e-01],\n",
       "       [ 8.57948553e-01,  2.50938050e+00,  5.00368690e-01,\n",
       "         4.67238804e-01,  1.88858241e+00,  2.36820275e+00,\n",
       "         1.79975578e-01, -6.07771711e-01],\n",
       "       [ 2.36467532e+00, -9.66317821e-01, -5.03749978e-01,\n",
       "         3.46190256e-01,  1.19359143e-03,  1.60160635e+00,\n",
       "         9.75445883e-01, -1.47509118e+00],\n",
       "       [-1.81326856e+00,  1.91601113e-01, -7.55673396e-02,\n",
       "        -1.97190437e+00,  4.63933037e-01, -7.38625165e-02,\n",
       "        -2.62876560e-01, -1.94847993e+00],\n",
       "       [-2.23134020e-01, -6.05137564e-01, -7.04752488e-01,\n",
       "        -9.91715681e-01, -1.58830467e+00, -1.82465254e+00,\n",
       "        -3.06761085e-01, -6.77516796e-01],\n",
       "       [-1.22628131e+00, -2.12339175e+00, -6.11260011e-01,\n",
       "        -2.53593645e+00,  1.22602528e+00, -4.05361680e-01,\n",
       "         6.71768408e-01, -1.80997902e+00],\n",
       "       [-6.12249132e-01,  1.04704218e-02, -3.93364418e-01,\n",
       "        -2.23865075e-02, -1.96894966e-01, -2.42774775e+00,\n",
       "         3.65614110e-01, -1.22083879e+00],\n",
       "       [ 1.21094238e+00, -1.36590599e+00, -1.52292336e+00,\n",
       "        -2.38336579e+00, -3.24365756e-01,  5.88189371e-01,\n",
       "         1.10871997e+00, -9.63701928e-01],\n",
       "       [ 2.08373886e+00, -9.46193064e-01, -2.61518289e-01,\n",
       "        -1.58676090e-01,  3.34632099e-01,  2.83480786e+00,\n",
       "         3.59056745e-01, -1.27689546e+00],\n",
       "       [-1.47607660e+00, -3.39417588e-01, -7.51202949e-01,\n",
       "         2.63024153e+00, -1.33661295e+00,  1.99571804e+00,\n",
       "        -6.39701732e-01, -5.73482181e-01],\n",
       "       [ 2.34629284e+00, -3.79332470e-01,  1.48155658e-02,\n",
       "         1.74154900e+00, -9.14179188e-01, -8.50014131e-01,\n",
       "        -5.36845799e-01,  3.90150389e-01],\n",
       "       [-1.97475599e+00,  1.23629797e+00,  1.68334255e+00,\n",
       "         1.46313876e+00,  9.48793369e-01, -7.09047634e-01,\n",
       "         1.27013098e+00, -9.77726899e-01],\n",
       "       [ 1.07655837e+00,  2.93297054e+00,  1.50444352e-01,\n",
       "         6.29386978e-01,  2.22489932e+00,  3.59296221e-01,\n",
       "        -1.22978978e+00, -7.58122031e-01],\n",
       "       [ 1.85413337e+00,  1.37657815e+00, -3.25871498e-01,\n",
       "        -1.31517887e+00,  4.54434368e-01,  1.71367469e+00,\n",
       "         5.27287032e-02,  3.52177914e-01],\n",
       "       [-1.92990729e-01,  1.49809400e+00, -2.40493382e+00,\n",
       "        -9.71546128e-01,  6.26763025e-01, -3.48810030e-01,\n",
       "        -4.98368544e-01,  6.42599551e-01],\n",
       "       [ 1.42821347e+00, -5.32181118e-01,  2.35675001e-01,\n",
       "        -1.14063687e+00,  1.51183756e+00,  5.41717979e-01,\n",
       "        -4.29159677e-02,  2.70956136e+00],\n",
       "       [-1.94947985e-01, -5.57188207e-01,  1.08618831e+00,\n",
       "        -4.16688133e-01,  5.22822871e-01, -1.66361915e+00,\n",
       "        -6.03270704e-01,  2.01587748e+00],\n",
       "       [-8.29227639e-01,  4.10060255e-01,  8.05585091e-01,\n",
       "         1.47170930e+00, -5.03309332e-02, -6.42132694e-01,\n",
       "         1.30801488e+00, -9.42997444e-01],\n",
       "       [-1.56947264e+00,  5.73783007e-01, -1.89578692e+00,\n",
       "        -1.66051112e+00,  1.37170928e+00,  8.64202683e-01,\n",
       "        -4.49405694e-01,  1.13205221e+00],\n",
       "       [-2.03572953e+00,  6.96542663e-01, -8.61759614e-01,\n",
       "        -1.09410289e+00, -9.29223021e-01,  1.05214135e+00,\n",
       "         8.74699751e-01,  1.74349476e+00],\n",
       "       [ 7.73577932e-01, -1.84572546e+00, -1.56851266e+00,\n",
       "         8.22791961e-01,  9.98655739e-01, -1.17707957e+00,\n",
       "        -1.44527598e+00,  8.51557081e-01],\n",
       "       [-1.96110303e+00, -1.04906373e+00, -1.67445229e+00,\n",
       "         1.26856600e+00, -2.21835571e+00,  5.84674026e-01,\n",
       "         7.92441529e-01,  5.59895339e-02],\n",
       "       [-6.88005549e-01, -3.77214652e-01,  4.57037260e-01,\n",
       "         2.60535918e+00, -6.03089918e-01,  1.86943453e+00,\n",
       "         1.87177905e-01,  8.50281657e-01],\n",
       "       [-2.54378540e-01,  1.35088963e+00, -1.47386393e+00,\n",
       "        -1.20631787e+00, -1.61873265e+00, -1.55547531e+00,\n",
       "         5.99170095e-01,  8.25416895e-01],\n",
       "       [-7.72396861e-03,  1.16995191e+00, -6.50333633e-01,\n",
       "        -6.84919731e-01, -4.56327046e-01,  6.88226600e-01,\n",
       "         4.64869407e-01,  8.79509594e-01],\n",
       "       [ 1.02042566e+00,  7.09008611e-01,  1.98595870e-01,\n",
       "         9.04551494e-01, -1.73476229e-01,  5.18746036e-01,\n",
       "        -8.57803575e-01,  1.65220613e+00],\n",
       "       [ 1.71269826e-02, -7.88591627e-01, -3.97805162e-01,\n",
       "         6.03973534e-01, -8.14627444e-01, -1.34893618e+00,\n",
       "        -2.51315113e-01, -3.63107251e-01],\n",
       "       [ 1.91217534e+00,  2.10431879e-01,  9.77482458e-01,\n",
       "        -1.52823012e+00, -2.30788897e+00, -1.52881175e+00,\n",
       "        -6.58658868e-01, -8.59164683e-01],\n",
       "       [-9.15940476e-02, -2.17329497e+00,  1.73443089e+00,\n",
       "        -6.67645179e-02,  2.10486435e+00,  7.06025972e-02,\n",
       "         4.84846462e-01, -8.92314491e-02],\n",
       "       [ 1.91329367e-01,  1.49279385e+00,  1.30241140e+00,\n",
       "         3.98913955e-01,  1.72599378e-01,  5.62483976e-02,\n",
       "        -7.37363655e-01, -1.38904620e+00],\n",
       "       [-8.57263921e-01, -1.86127147e+00,  2.48445160e+00,\n",
       "        -2.53361685e-01, -5.73465971e-01,  1.57370855e-01,\n",
       "         1.28885784e+00,  1.39410534e-01],\n",
       "       [-1.61637249e+00, -1.12405447e+00, -1.04018494e+00,\n",
       "        -1.55066760e+00,  7.41056591e-01,  2.94006227e-01,\n",
       "        -6.77875220e-01,  1.39144508e+00],\n",
       "       [-1.19904612e+00,  8.41919540e-01,  2.01955962e-01,\n",
       "         4.24180917e-01,  1.43292351e+00, -6.93821311e-01,\n",
       "        -6.62543569e-01,  2.61137353e+00],\n",
       "       [ 3.43778914e+00, -1.62651026e+00, -1.77072054e+00,\n",
       "         1.21670820e+00,  1.54550167e+00,  9.40475719e-01,\n",
       "        -3.35346978e-01, -1.01877367e-01],\n",
       "       [-2.11500283e-01,  5.72297572e-01,  1.55143455e-02,\n",
       "         1.41800760e+00, -2.16000016e+00, -2.88810518e-01,\n",
       "         3.41809357e-01,  2.33830342e-01],\n",
       "       [-7.80536602e-01,  9.22849327e-01,  1.85481876e+00,\n",
       "         1.40619923e+00,  7.12101130e-01, -3.71601820e-01,\n",
       "         2.76635514e+00, -1.91030482e-01],\n",
       "       [-7.59585777e-01, -1.56719657e+00, -1.74355163e+00,\n",
       "         3.33444352e-01,  2.45090002e-01, -1.74198150e-01,\n",
       "        -6.78441508e-01, -9.36517980e-01],\n",
       "       [ 8.49431674e-01,  2.32098779e+00,  1.22688595e+00,\n",
       "        -1.48295086e+00, -1.63931047e-01, -4.04344295e-02,\n",
       "        -1.11192736e+00, -8.45640451e-01],\n",
       "       [ 8.15032601e-01,  6.52932614e-01,  7.47284163e-01,\n",
       "        -9.70071732e-01, -1.93796384e+00,  1.39447579e+00,\n",
       "        -3.60979202e-01,  7.66075430e-01],\n",
       "       [ 2.11355020e+00,  3.59024811e-01, -5.62749095e-01,\n",
       "        -1.02589269e-01, -7.82399363e-01, -5.40515538e-01,\n",
       "         1.25616835e+00, -1.43290615e+00],\n",
       "       [ 8.34259709e-01, -2.74888329e+00,  1.26207405e+00,\n",
       "        -3.22385643e-01, -1.11198913e-01,  1.66648965e+00,\n",
       "        -3.02836636e-02,  5.76293776e-01],\n",
       "       [-1.04453780e+00,  7.94689177e-01, -2.53589658e+00,\n",
       "        -2.52817691e-01,  2.43115813e-01,  8.48637822e-04,\n",
       "        -1.19464075e+00,  1.65719642e+00],\n",
       "       [-1.83323966e-01,  1.85623174e+00, -2.10717017e+00,\n",
       "        -6.01040530e-01,  1.06151457e+00,  5.56772661e-01,\n",
       "        -1.71974342e+00,  1.08357647e-01],\n",
       "       [ 2.11615417e+00,  4.04045796e-01,  8.75302318e-01,\n",
       "        -1.33466603e+00,  1.08203323e-01, -1.45072212e-01,\n",
       "        -1.12937085e+00,  1.04541395e+00],\n",
       "       [ 6.95524843e-01, -3.92467124e-01,  1.53284080e+00,\n",
       "        -3.55427018e-01,  4.28072377e-01, -8.89862002e-02,\n",
       "        -2.48118967e+00,  7.09891984e-01],\n",
       "       [ 1.05056214e+00, -4.20354736e-01, -5.87839107e-01,\n",
       "         1.24388217e+00,  3.93373707e-01,  1.42667082e-01,\n",
       "         1.57659424e+00,  1.80440642e+00]])"
      ]
     },
     "execution_count": 13,
     "metadata": {},
     "output_type": "execute_result"
    }
   ],
   "source": [
    "# Let's assume we decide to retain 8 principal components (arbitrary decision)\n",
    "k_final = 8\n",
    "pca_final = PCA(n_components=k_final)\n",
    "X_reduced_final = pca_final.fit_transform(scaled_X)\n",
    "\n",
    "X_reduced_final"
   ]
  },
  {
   "cell_type": "markdown",
   "id": "095024f8",
   "metadata": {},
   "source": [
    "**Q7. For a dataset containing the following values: [1, 5, 10, 15, 20], perform Min-Max scaling to transform the values to a range of -1 to 1.**"
   ]
  },
  {
   "cell_type": "code",
   "execution_count": 14,
   "id": "5712d7fa",
   "metadata": {},
   "outputs": [
    {
     "data": {
      "text/plain": [
       "array([[ 1],\n",
       "       [ 5],\n",
       "       [10],\n",
       "       [15],\n",
       "       [20]])"
      ]
     },
     "execution_count": 14,
     "metadata": {},
     "output_type": "execute_result"
    }
   ],
   "source": [
    "import numpy as np\n",
    "from sklearn.preprocessing import MinMaxScaler\n",
    "\n",
    "data = np.array([1,5,10,15,20]).reshape(-1,1)\n",
    "\n",
    "data"
   ]
  },
  {
   "cell_type": "code",
   "execution_count": 15,
   "id": "c85da9f2",
   "metadata": {},
   "outputs": [
    {
     "data": {
      "text/plain": [
       "array([[-1.        ],\n",
       "       [-0.57894737],\n",
       "       [-0.05263158],\n",
       "       [ 0.47368421],\n",
       "       [ 1.        ]])"
      ]
     },
     "execution_count": 15,
     "metadata": {},
     "output_type": "execute_result"
    }
   ],
   "source": [
    "#creating object\n",
    "scaler= MinMaxScaler(feature_range=(-1,1))\n",
    "scaled_data = scaler.fit_transform(data)\n",
    "\n",
    "scaled_data"
   ]
  },
  {
   "cell_type": "markdown",
   "id": "d7b50128",
   "metadata": {},
   "source": [
    "**Q8. For a dataset containing the following features: [height, weight, age, gender, blood pressure], perform Feature Extraction using PCA. How many principal components would you choose to retain, and why?\"**"
   ]
  },
  {
   "cell_type": "markdown",
   "id": "84b4df70",
   "metadata": {},
   "source": [
    "To perform feature extraction using PCA on the dataset with features [height, weight, age, gender, blood pressure], we need to determine the number of principal components to retain. The number of principal components to keep depends on the amount of variance explained by each principal component. Generally, we aim to retain enough principal components that capture a significant portion of the total variance in the data while reducing the dimensionality.\n",
    "\n",
    "To decide on the number of principal components we follow these steps:\n",
    "\n",
    "1. Perform PCA: Apply PCA to the dataset to obtain the principal components and their corresponding explained variance ratios.\n",
    "\n",
    "2. Analyze Explained Variance: Examine the explained variance ratios of each principal component. The explained variance ratio represents the proportion of the dataset's variance that is explained by each principal component.\n",
    "\n",
    "3. Scree Plot: Visualize the explained variance ratios in a scree plot to see the proportion of variance explained by each principal component. The plot shows the cumulative explained variance as the number of principal components increases.\n",
    "\n",
    "4. Decide on the Number of Components: Choose the number of principal components that cumulatively explain a significant amount of variance in the data. A common approach is to retain enough components to capture a certain percentage of the total variance, e.g., 90% or 95%.\n",
    "\n",
    "The specific number of principal components to retain may vary depending on the dataset and the desired balance between dimensionality reduction and preserving information. "
   ]
  },
  {
   "cell_type": "code",
   "execution_count": 16,
   "id": "3f61fb97",
   "metadata": {},
   "outputs": [
    {
     "data": {
      "text/html": [
       "<div>\n",
       "<style scoped>\n",
       "    .dataframe tbody tr th:only-of-type {\n",
       "        vertical-align: middle;\n",
       "    }\n",
       "\n",
       "    .dataframe tbody tr th {\n",
       "        vertical-align: top;\n",
       "    }\n",
       "\n",
       "    .dataframe thead th {\n",
       "        text-align: right;\n",
       "    }\n",
       "</style>\n",
       "<table border=\"1\" class=\"dataframe\">\n",
       "  <thead>\n",
       "    <tr style=\"text-align: right;\">\n",
       "      <th></th>\n",
       "      <th>Height</th>\n",
       "      <th>Weight</th>\n",
       "      <th>Age</th>\n",
       "      <th>Gender</th>\n",
       "      <th>Blood Pressure</th>\n",
       "    </tr>\n",
       "  </thead>\n",
       "  <tbody>\n",
       "    <tr>\n",
       "      <th>0</th>\n",
       "      <td>197.264488</td>\n",
       "      <td>84.799980</td>\n",
       "      <td>25</td>\n",
       "      <td>0</td>\n",
       "      <td>124.825452</td>\n",
       "    </tr>\n",
       "    <tr>\n",
       "      <th>1</th>\n",
       "      <td>181.909333</td>\n",
       "      <td>66.314008</td>\n",
       "      <td>22</td>\n",
       "      <td>0</td>\n",
       "      <td>138.974266</td>\n",
       "    </tr>\n",
       "    <tr>\n",
       "      <th>2</th>\n",
       "      <td>172.938287</td>\n",
       "      <td>69.280096</td>\n",
       "      <td>38</td>\n",
       "      <td>0</td>\n",
       "      <td>113.056646</td>\n",
       "    </tr>\n",
       "    <tr>\n",
       "      <th>3</th>\n",
       "      <td>188.764607</td>\n",
       "      <td>82.583661</td>\n",
       "      <td>51</td>\n",
       "      <td>0</td>\n",
       "      <td>129.118854</td>\n",
       "    </tr>\n",
       "    <tr>\n",
       "      <th>4</th>\n",
       "      <td>165.582489</td>\n",
       "      <td>60.802114</td>\n",
       "      <td>64</td>\n",
       "      <td>0</td>\n",
       "      <td>120.287752</td>\n",
       "    </tr>\n",
       "  </tbody>\n",
       "</table>\n",
       "</div>"
      ],
      "text/plain": [
       "       Height     Weight  Age  Gender  Blood Pressure\n",
       "0  197.264488  84.799980   25       0      124.825452\n",
       "1  181.909333  66.314008   22       0      138.974266\n",
       "2  172.938287  69.280096   38       0      113.056646\n",
       "3  188.764607  82.583661   51       0      129.118854\n",
       "4  165.582489  60.802114   64       0      120.287752"
      ]
     },
     "execution_count": 16,
     "metadata": {},
     "output_type": "execute_result"
    }
   ],
   "source": [
    "import numpy as np\n",
    "from sklearn.decomposition import PCA\n",
    "\n",
    "# Sample dataset with features [height, weight, age, gender, blood pressure]\n",
    "# Set the seed for reproducibility\n",
    "np.random.seed(678)\n",
    "\n",
    "# Generate random data for each feature\n",
    "height = np.random.normal(loc=170, scale=10, size=1000)\n",
    "weight = np.random.normal(loc=70, scale=10, size=1000)\n",
    "age = np.random.randint(18, 65, size=1000)\n",
    "gender = np.random.randint(0,1, size=1000)\n",
    "blood_pressure = np.random.normal(loc=120, scale=10, size=1000)\n",
    "\n",
    "# Combine the data into a Pandas DataFrame\n",
    "data = pd.DataFrame({'Height': height, \n",
    "                     'Weight': weight, \n",
    "                     'Age': age, \n",
    "                     'Gender': gender, \n",
    "                     'Blood Pressure': blood_pressure})\n",
    "\n",
    "# Print the first 5 rows of the data\n",
    "data.head()"
   ]
  },
  {
   "cell_type": "code",
   "execution_count": 17,
   "id": "94d714f9",
   "metadata": {},
   "outputs": [
    {
     "data": {
      "image/png": "[encoded data removed]",
      "text/plain": [
       "<Figure size 640x480 with 1 Axes>"
      ]
     },
     "metadata": {},
     "output_type": "display_data"
    }
   ],
   "source": [
    "#performing PCA\n",
    "pca = PCA()\n",
    "pca.fit_transform(data)\n",
    "\n",
    "# Analyze explained variance ratios\n",
    "explained_variance_ratios = pca.explained_variance_ratio_\n",
    "\n",
    "# Calculate cumulative explained variance\n",
    "cumulative_variance = np.cumsum(explained_variance_ratios)\n",
    "\n",
    "# Scree plot\n",
    "import matplotlib.pyplot as plt\n",
    "\n",
    "plt.plot(range(1, len(explained_variance_ratios) + 1), cumulative_variance, marker='o')\n",
    "plt.xlabel('Number of Principal Components')\n",
    "plt.ylabel('Cumulative Explained Variance')\n",
    "plt.title('Scree Plot')\n",
    "plt.grid(True)\n",
    "plt.show()"
   ]
  },
  {
   "cell_type": "markdown",
   "id": "4db23467",
   "metadata": {},
   "source": [
    "Based on the plot if we select the first 3 components is enough as it covers 80 % of the variance"
   ]
  }
 ],
 "metadata": {
  "kernelspec": {
   "display_name": "Python 3 (ipykernel)",
   "language": "python",
   "name": "python3"
  },
  "language_info": {
   "codemirror_mode": {
    "name": "ipython",
    "version": 3
   },
   "file_extension": ".py",
   "mimetype": "text/x-python",
   "name": "python",
   "nbconvert_exporter": "python",
   "pygments_lexer": "ipython3",
   "version": "3.10.9"
  }
 },
 "nbformat": 4,
 "nbformat_minor": 5
}
